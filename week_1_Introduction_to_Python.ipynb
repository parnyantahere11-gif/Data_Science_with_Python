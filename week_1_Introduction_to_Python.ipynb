{
 "cells": [
  {
   "cell_type": "code",
   "execution_count": 1,
   "id": "d932e464-487b-4e5e-bc94-92183819c3a0",
   "metadata": {},
   "outputs": [],
   "source": [
    "\n",
    "######  Introduction  to Python\n",
    "\n",
    "## Data types  : Numbers , Strings , Lists \n",
    "\n",
    "## Printing\n",
    "\n"
   ]
  },
  {
   "cell_type": "code",
   "execution_count": 2,
   "id": "6d8e50d7-fee7-4bde-91b4-486acd46108b",
   "metadata": {},
   "outputs": [
    {
     "name": "stdout",
     "output_type": "stream",
     "text": [
      "hello world\n"
     ]
    }
   ],
   "source": [
    "print(\"hello world\")"
   ]
  },
  {
   "cell_type": "code",
   "execution_count": 3,
   "id": "074c4535-b8ae-4aea-9870-7fe13dd233a5",
   "metadata": {},
   "outputs": [
    {
     "data": {
      "text/plain": [
       "2"
      ]
     },
     "execution_count": 3,
     "metadata": {},
     "output_type": "execute_result"
    }
   ],
   "source": [
    "## Numbers\n",
    "\n",
    "1+1"
   ]
  },
  {
   "cell_type": "code",
   "execution_count": 4,
   "id": "c53f26d0-2682-4a69-8b90-4c401bab3102",
   "metadata": {},
   "outputs": [
    {
     "data": {
      "text/plain": [
       "3"
      ]
     },
     "execution_count": 4,
     "metadata": {},
     "output_type": "execute_result"
    }
   ],
   "source": [
    "1*3"
   ]
  },
  {
   "cell_type": "code",
   "execution_count": 5,
   "id": "ae1eb14a-ba74-4d20-8825-82d0d0255032",
   "metadata": {},
   "outputs": [
    {
     "data": {
      "text/plain": [
       "0.5"
      ]
     },
     "execution_count": 5,
     "metadata": {},
     "output_type": "execute_result"
    }
   ],
   "source": [
    "1/2"
   ]
  },
  {
   "cell_type": "code",
   "execution_count": 6,
   "id": "5e606aef-5999-4e56-badc-2f50ec72cbab",
   "metadata": {},
   "outputs": [
    {
     "data": {
      "text/plain": [
       "16"
      ]
     },
     "execution_count": 6,
     "metadata": {},
     "output_type": "execute_result"
    }
   ],
   "source": [
    "2**4"
   ]
  },
  {
   "cell_type": "code",
   "execution_count": 7,
   "id": "bd77f37a-6693-41a8-8956-1763264a33ba",
   "metadata": {},
   "outputs": [
    {
     "data": {
      "text/plain": [
       "1"
      ]
     },
     "execution_count": 7,
     "metadata": {},
     "output_type": "execute_result"
    }
   ],
   "source": [
    "5%2"
   ]
  },
  {
   "cell_type": "code",
   "execution_count": 8,
   "id": "8983e5d2-e7a9-4c8f-995e-978d6ed2387a",
   "metadata": {},
   "outputs": [
    {
     "data": {
      "text/plain": [
       "0"
      ]
     },
     "execution_count": 8,
     "metadata": {},
     "output_type": "execute_result"
    }
   ],
   "source": [
    "4%2"
   ]
  },
  {
   "cell_type": "code",
   "execution_count": 9,
   "id": "cbae6ce6-3a41-41af-8aba-afadf0c98369",
   "metadata": {},
   "outputs": [
    {
     "data": {
      "text/plain": [
       "50"
      ]
     },
     "execution_count": 9,
     "metadata": {},
     "output_type": "execute_result"
    }
   ],
   "source": [
    "(2+3) * (5 + 5)"
   ]
  },
  {
   "cell_type": "code",
   "execution_count": 10,
   "id": "902d41d5-bfcc-4990-8fc5-856247b0cb92",
   "metadata": {},
   "outputs": [],
   "source": [
    "## Variable Assignment\n",
    "\n",
    "## Can not start with number or special characters\n",
    "\n",
    "name_of_var=2"
   ]
  },
  {
   "cell_type": "code",
   "execution_count": 11,
   "id": "43d946db-8b71-4879-b00a-7c70ad61e90d",
   "metadata": {},
   "outputs": [],
   "source": [
    "x = 2\n",
    "y = 3\n",
    "\n",
    "z = x + y"
   ]
  },
  {
   "cell_type": "code",
   "execution_count": 12,
   "id": "13286edf-18d9-413b-89e8-f0819203a526",
   "metadata": {},
   "outputs": [
    {
     "data": {
      "text/plain": [
       "5"
      ]
     },
     "execution_count": 12,
     "metadata": {},
     "output_type": "execute_result"
    }
   ],
   "source": [
    "z"
   ]
  },
  {
   "cell_type": "code",
   "execution_count": 13,
   "id": "73d6b135-74ed-42b8-aa35-1559b35854b9",
   "metadata": {},
   "outputs": [
    {
     "data": {
      "text/plain": [
       "'single quotes'"
      ]
     },
     "execution_count": 13,
     "metadata": {},
     "output_type": "execute_result"
    }
   ],
   "source": [
    "## Strings\n",
    "# A String of Carachters made within '' or \" \" . separated by , \n",
    "\n",
    "'single quotes'"
   ]
  },
  {
   "cell_type": "code",
   "execution_count": 14,
   "id": "97169c13-eb62-4f22-84d6-b9e5e1b1ea9d",
   "metadata": {},
   "outputs": [
    {
     "data": {
      "text/plain": [
       "'double quotes'"
      ]
     },
     "execution_count": 14,
     "metadata": {},
     "output_type": "execute_result"
    }
   ],
   "source": [
    "\"double quotes\""
   ]
  },
  {
   "cell_type": "code",
   "execution_count": 15,
   "id": "1dac0e32-c432-48ea-b25a-8a1502836092",
   "metadata": {},
   "outputs": [
    {
     "data": {
      "text/plain": [
       "\"warp lot's of quotes\""
      ]
     },
     "execution_count": 15,
     "metadata": {},
     "output_type": "execute_result"
    }
   ],
   "source": [
    "\"warp lot's of quotes\""
   ]
  },
  {
   "cell_type": "code",
   "execution_count": 16,
   "id": "a0e8bc9f-b949-4262-8874-75acf1efb1ba",
   "metadata": {},
   "outputs": [],
   "source": [
    "b= \"talapy\"\n"
   ]
  },
  {
   "cell_type": "code",
   "execution_count": 17,
   "id": "17b443af-aacf-44fe-9ac9-4e03619335c3",
   "metadata": {},
   "outputs": [
    {
     "data": {
      "text/plain": [
       "'a'"
      ]
     },
     "execution_count": 17,
     "metadata": {},
     "output_type": "execute_result"
    }
   ],
   "source": [
    "b[3]"
   ]
  },
  {
   "cell_type": "code",
   "execution_count": 18,
   "id": "c5e36e67-4eb0-4c1e-8099-141041e102ce",
   "metadata": {},
   "outputs": [
    {
     "data": {
      "text/plain": [
       "'ta'"
      ]
     },
     "execution_count": 18,
     "metadata": {},
     "output_type": "execute_result"
    }
   ],
   "source": [
    "b[:2]"
   ]
  },
  {
   "cell_type": "code",
   "execution_count": 19,
   "id": "fb943d7e-ead7-40cc-a2a7-4dd34d7649ce",
   "metadata": {},
   "outputs": [
    {
     "data": {
      "text/plain": [
       "'alap'"
      ]
     },
     "execution_count": 19,
     "metadata": {},
     "output_type": "execute_result"
    }
   ],
   "source": [
    "b[1:5]"
   ]
  },
  {
   "cell_type": "code",
   "execution_count": 20,
   "id": "1368525a-b8ee-4594-a975-f27cbd48536e",
   "metadata": {},
   "outputs": [
    {
     "data": {
      "text/plain": [
       "'apy'"
      ]
     },
     "execution_count": 20,
     "metadata": {},
     "output_type": "execute_result"
    }
   ],
   "source": [
    "b[3:]"
   ]
  },
  {
   "cell_type": "code",
   "execution_count": 21,
   "id": "4badba5b-f0bd-4c5e-9c77-b2e2b9b79a40",
   "metadata": {},
   "outputs": [
    {
     "data": {
      "text/plain": [
       "'l'"
      ]
     },
     "execution_count": 21,
     "metadata": {},
     "output_type": "execute_result"
    }
   ],
   "source": [
    "b[-4]"
   ]
  },
  {
   "cell_type": "code",
   "execution_count": 22,
   "id": "17ef32cd-5e20-4c38-a22c-849de3f15f1e",
   "metadata": {},
   "outputs": [
    {
     "data": {
      "text/plain": [
       "'tal'"
      ]
     },
     "execution_count": 22,
     "metadata": {},
     "output_type": "execute_result"
    }
   ],
   "source": [
    "b[:-3]"
   ]
  },
  {
   "cell_type": "code",
   "execution_count": 23,
   "id": "1a3fe071-9c4f-42de-bc12-dcde620e10a8",
   "metadata": {},
   "outputs": [
    {
     "data": {
      "text/plain": [
       "'lapy'"
      ]
     },
     "execution_count": 23,
     "metadata": {},
     "output_type": "execute_result"
    }
   ],
   "source": [
    "b[-4:]"
   ]
  },
  {
   "cell_type": "code",
   "execution_count": 24,
   "id": "0f0ba9bd-cffc-4839-ad2a-f8a867a942d6",
   "metadata": {},
   "outputs": [
    {
     "data": {
      "text/plain": [
       "'ta'"
      ]
     },
     "execution_count": 24,
     "metadata": {},
     "output_type": "execute_result"
    }
   ],
   "source": [
    "b[:-4]"
   ]
  },
  {
   "cell_type": "code",
   "execution_count": 25,
   "id": "c5285e26-d13c-47d1-97f6-d40927451135",
   "metadata": {},
   "outputs": [
    {
     "data": {
      "text/plain": [
       "'la'"
      ]
     },
     "execution_count": 25,
     "metadata": {},
     "output_type": "execute_result"
    }
   ],
   "source": [
    "b[-4:-2]"
   ]
  },
  {
   "cell_type": "code",
   "execution_count": 26,
   "id": "063a3f2c-fc1a-44ee-b943-018343bac5db",
   "metadata": {},
   "outputs": [],
   "source": [
    "\n",
    "x = 'hello'"
   ]
  },
  {
   "cell_type": "code",
   "execution_count": 27,
   "id": "97422e37-113b-42ac-80d0-d555ceec8381",
   "metadata": {},
   "outputs": [
    {
     "data": {
      "text/plain": [
       "'hello'"
      ]
     },
     "execution_count": 27,
     "metadata": {},
     "output_type": "execute_result"
    }
   ],
   "source": [
    "x"
   ]
  },
  {
   "cell_type": "code",
   "execution_count": 28,
   "id": "246b7e80-e86f-4e0d-bed4-589a2a0ad229",
   "metadata": {},
   "outputs": [
    {
     "name": "stdout",
     "output_type": "stream",
     "text": [
      "hello\n"
     ]
    }
   ],
   "source": [
    "print(x)"
   ]
  },
  {
   "cell_type": "code",
   "execution_count": 29,
   "id": "2ba29d8b-b97f-4c1f-aa34-6036b6ccbe23",
   "metadata": {},
   "outputs": [
    {
     "name": "stdout",
     "output_type": "stream",
     "text": [
      "my number is: 31, and my name is: Tahereh_Parnian\n"
     ]
    }
   ],
   "source": [
    "num = 31\n",
    "name = 'Tahereh_Parnian'\n",
    "\n",
    "print('my number is: {}, and my name is: {}' .format(num,name)) "
   ]
  },
  {
   "cell_type": "code",
   "execution_count": 30,
   "id": "67b3b5b6-6d67-469d-9f24-9c7abd0e1349",
   "metadata": {},
   "outputs": [
    {
     "data": {
      "text/plain": [
       "[1, 2, 3]"
      ]
     },
     "execution_count": 30,
     "metadata": {},
     "output_type": "execute_result"
    }
   ],
   "source": [
    "## List\n",
    "\n",
    "[1,2,3]"
   ]
  },
  {
   "cell_type": "code",
   "execution_count": 31,
   "id": "622a2c9f-23ea-4340-8d27-b993cd9358c3",
   "metadata": {},
   "outputs": [
    {
     "data": {
      "text/plain": [
       "['Tala', 1, [31, 37]]"
      ]
     },
     "execution_count": 31,
     "metadata": {},
     "output_type": "execute_result"
    }
   ],
   "source": [
    "['Tala', 1, [31,37]]"
   ]
  },
  {
   "cell_type": "code",
   "execution_count": 32,
   "id": "3124dfa4-e467-44d6-b0ee-2afec4531001",
   "metadata": {},
   "outputs": [],
   "source": [
    "my_list = ['a', 'b', 'c']"
   ]
  },
  {
   "cell_type": "code",
   "execution_count": 33,
   "id": "794ffaed-b454-479e-bec9-0a3ba374c514",
   "metadata": {},
   "outputs": [],
   "source": [
    "## add a value to the end of the list  ----> .append()\n",
    "\n",
    "my_list.append('d')"
   ]
  },
  {
   "cell_type": "code",
   "execution_count": 34,
   "id": "d9d46d09-0552-4754-be9c-cc019d0e7b8a",
   "metadata": {},
   "outputs": [
    {
     "data": {
      "text/plain": [
       "['a', 'b', 'c', 'd']"
      ]
     },
     "execution_count": 34,
     "metadata": {},
     "output_type": "execute_result"
    }
   ],
   "source": [
    "my_list"
   ]
  },
  {
   "cell_type": "code",
   "execution_count": 35,
   "id": "d437e821-5ddc-4f2a-b1b9-016000c07525",
   "metadata": {},
   "outputs": [
    {
     "name": "stdout",
     "output_type": "stream",
     "text": [
      "['a', 'b', 'c', 'd']\n"
     ]
    }
   ],
   "source": [
    "print(my_list)"
   ]
  },
  {
   "cell_type": "code",
   "execution_count": 36,
   "id": "3d4247c6-8410-4eee-8a8d-d94c3fce92e7",
   "metadata": {},
   "outputs": [],
   "source": [
    "my_list2 = ['Tala', 1, [31,37]]\n",
    "\n",
    "my_list2.append('Esi')"
   ]
  },
  {
   "cell_type": "code",
   "execution_count": 37,
   "id": "d722a2a2-2f61-4836-91d0-13ac7d9e7e04",
   "metadata": {},
   "outputs": [],
   "source": [
    "my_list2 = ['Tala', 1, [31,37]]"
   ]
  },
  {
   "cell_type": "code",
   "execution_count": 38,
   "id": "bab5c532-87aa-44a7-ae06-f01d3b6ffd9e",
   "metadata": {},
   "outputs": [],
   "source": [
    "my_list2.append('Esi')"
   ]
  },
  {
   "cell_type": "code",
   "execution_count": 39,
   "id": "7882cf22-5e84-41d6-95c0-7dd68a0fc570",
   "metadata": {},
   "outputs": [
    {
     "name": "stdout",
     "output_type": "stream",
     "text": [
      "['Tala', 1, [31, 37], 'Esi']\n"
     ]
    }
   ],
   "source": [
    "print(my_list2)"
   ]
  },
  {
   "cell_type": "code",
   "execution_count": 40,
   "id": "212243b3-e38c-4719-bb26-dac69c9cec55",
   "metadata": {},
   "outputs": [
    {
     "data": {
      "text/plain": [
       "'d'"
      ]
     },
     "execution_count": 40,
     "metadata": {},
     "output_type": "execute_result"
    }
   ],
   "source": [
    "my_list[3]"
   ]
  },
  {
   "cell_type": "code",
   "execution_count": 41,
   "id": "ddaa7589-be12-4077-935f-6759edb05ee3",
   "metadata": {},
   "outputs": [
    {
     "data": {
      "text/plain": [
       "'Esi'"
      ]
     },
     "execution_count": 41,
     "metadata": {},
     "output_type": "execute_result"
    }
   ],
   "source": [
    "my_list2[3]"
   ]
  },
  {
   "cell_type": "code",
   "execution_count": 42,
   "id": "e1d08f12-8788-488c-bf61-4129c3300035",
   "metadata": {},
   "outputs": [
    {
     "data": {
      "text/plain": [
       "['Tala', 1]"
      ]
     },
     "execution_count": 42,
     "metadata": {},
     "output_type": "execute_result"
    }
   ],
   "source": [
    "my_list2[:2]"
   ]
  },
  {
   "cell_type": "code",
   "execution_count": 43,
   "id": "666ff1d7-b09a-4b82-8739-31d8667eea07",
   "metadata": {},
   "outputs": [
    {
     "data": {
      "text/plain": [
       "[1, [31, 37], 'Esi']"
      ]
     },
     "execution_count": 43,
     "metadata": {},
     "output_type": "execute_result"
    }
   ],
   "source": [
    "my_list2[1:]"
   ]
  },
  {
   "cell_type": "code",
   "execution_count": 44,
   "id": "446a911e-a838-4829-8298-1c92e96294f0",
   "metadata": {},
   "outputs": [
    {
     "data": {
      "text/plain": [
       "['c']"
      ]
     },
     "execution_count": 44,
     "metadata": {},
     "output_type": "execute_result"
    }
   ],
   "source": [
    "my_list[-2:-1]"
   ]
  },
  {
   "cell_type": "code",
   "execution_count": 45,
   "id": "34b3665a-3347-441b-9ab5-f19c6f2f130c",
   "metadata": {},
   "outputs": [
    {
     "data": {
      "text/plain": [
       "['c']"
      ]
     },
     "execution_count": 45,
     "metadata": {},
     "output_type": "execute_result"
    }
   ],
   "source": [
    "my_list[-2:-1]"
   ]
  },
  {
   "cell_type": "code",
   "execution_count": 46,
   "id": "d08ecef1-efa9-4201-aef0-234ab4853e74",
   "metadata": {},
   "outputs": [
    {
     "data": {
      "text/plain": [
       "'Tala'"
      ]
     },
     "execution_count": 46,
     "metadata": {},
     "output_type": "execute_result"
    }
   ],
   "source": [
    "my_list2[0]"
   ]
  },
  {
   "cell_type": "code",
   "execution_count": 47,
   "id": "25a67612-5e35-4ace-b6d5-00d92f24e59b",
   "metadata": {},
   "outputs": [
    {
     "data": {
      "text/plain": [
       "['a', 'b', 'c', 'd']"
      ]
     },
     "execution_count": 47,
     "metadata": {},
     "output_type": "execute_result"
    }
   ],
   "source": [
    "my_list[:5]"
   ]
  },
  {
   "cell_type": "code",
   "execution_count": 48,
   "id": "c2b8396d-18ea-4812-90a9-12144c66eb22",
   "metadata": {},
   "outputs": [
    {
     "data": {
      "text/plain": [
       "['Tala', 1, [31, 37], 'Esi']"
      ]
     },
     "execution_count": 48,
     "metadata": {},
     "output_type": "execute_result"
    }
   ],
   "source": [
    "my_list2[:5]"
   ]
  },
  {
   "cell_type": "code",
   "execution_count": 49,
   "id": "a9c04164-1f8b-461f-9479-15e58d56ddd2",
   "metadata": {},
   "outputs": [
    {
     "data": {
      "text/plain": [
       "['Tala', 1, [31, 37], 'Esi']"
      ]
     },
     "execution_count": 49,
     "metadata": {},
     "output_type": "execute_result"
    }
   ],
   "source": [
    "my_list2[:4]"
   ]
  },
  {
   "cell_type": "code",
   "execution_count": 50,
   "id": "36405b50-6f8a-4fb3-9e3d-ab45ff4f5d15",
   "metadata": {},
   "outputs": [],
   "source": [
    "my_list2[0]= 'Tahereh'\n",
    "\n",
    "my_list2[3]= 'Ehsan'\n"
   ]
  },
  {
   "cell_type": "code",
   "execution_count": 51,
   "id": "c1235ab0-5a5a-4341-94ee-018b2c477c15",
   "metadata": {},
   "outputs": [
    {
     "data": {
      "text/plain": [
       "['Tahereh', 1, [31, 37], 'Ehsan']"
      ]
     },
     "execution_count": 51,
     "metadata": {},
     "output_type": "execute_result"
    }
   ],
   "source": [
    "my_list2"
   ]
  },
  {
   "cell_type": "code",
   "execution_count": 52,
   "id": "1624b056-3dfa-405e-8964-592d6cbc717c",
   "metadata": {},
   "outputs": [
    {
     "name": "stdout",
     "output_type": "stream",
     "text": [
      "['Tahereh', 1, [31, 37], 'Ehsan']\n"
     ]
    }
   ],
   "source": [
    "print(my_list2)"
   ]
  },
  {
   "cell_type": "code",
   "execution_count": 53,
   "id": "e8c24ff4-d53e-4806-b34d-5616fcdf658b",
   "metadata": {},
   "outputs": [
    {
     "data": {
      "text/plain": [
       "[15, 4]"
      ]
     },
     "execution_count": 53,
     "metadata": {},
     "output_type": "execute_result"
    }
   ],
   "source": [
    "nest= [15, 4, 1994, ['Tahereh_Parnian',31,['kermanshah', ['Iran']]]]\n",
    "\n",
    "nest[:2]                                                          "
   ]
  },
  {
   "cell_type": "code",
   "execution_count": 54,
   "id": "09aed0bd-912f-449c-8bb7-43a4a06d0e5f",
   "metadata": {},
   "outputs": [],
   "source": [
    "nest= [15, 4, 1994, [31,['kermanshah']]]\n",
    "                         "
   ]
  },
  {
   "cell_type": "code",
   "execution_count": 55,
   "id": "f3e226ad-2b2b-42be-9881-06df3e7d86cd",
   "metadata": {},
   "outputs": [
    {
     "name": "stdout",
     "output_type": "stream",
     "text": [
      "[15, 4, 1994, [31, ['kermanshah']]]\n"
     ]
    }
   ],
   "source": [
    "nest= [15, 4, 1994, [31,['kermanshah']]]\n",
    "\n",
    "\n",
    "nest2= [15, 4, 1994, ['Tahereh_Parnian',31,['kermanshah', ['Iran']] ]]\n",
    "\n",
    "print(nest)                                                           "
   ]
  },
  {
   "cell_type": "code",
   "execution_count": 56,
   "id": "ff132943-c44f-4204-8cdd-d5b738cc24cd",
   "metadata": {},
   "outputs": [
    {
     "name": "stdout",
     "output_type": "stream",
     "text": [
      "[15, 4, 1994, ['Tahereh_Parnian', 31, ['kermanshah', ['Iran']]]]\n"
     ]
    }
   ],
   "source": [
    "print(nest2)"
   ]
  },
  {
   "cell_type": "code",
   "execution_count": 57,
   "id": "9d4a018d-c73a-46e9-8d82-f3e214b78196",
   "metadata": {},
   "outputs": [
    {
     "data": {
      "text/plain": [
       "[15, 4]"
      ]
     },
     "execution_count": 57,
     "metadata": {},
     "output_type": "execute_result"
    }
   ],
   "source": [
    "nest2[:2]"
   ]
  },
  {
   "cell_type": "code",
   "execution_count": 58,
   "id": "f8dcc1e9-cdf2-4f78-8ddc-9de3aa992609",
   "metadata": {},
   "outputs": [
    {
     "data": {
      "text/plain": [
       "['Tahereh_Parnian', 31, ['kermanshah', ['Iran']]]"
      ]
     },
     "execution_count": 58,
     "metadata": {},
     "output_type": "execute_result"
    }
   ],
   "source": [
    "nest2[3]"
   ]
  },
  {
   "cell_type": "code",
   "execution_count": 59,
   "id": "fbf96c8d-8840-4662-9776-80187cb0df2f",
   "metadata": {},
   "outputs": [
    {
     "data": {
      "text/plain": [
       "'Tahereh_Parnian'"
      ]
     },
     "execution_count": 59,
     "metadata": {},
     "output_type": "execute_result"
    }
   ],
   "source": [
    "nest2[3][0]"
   ]
  },
  {
   "cell_type": "code",
   "execution_count": 60,
   "id": "2e4bef5f-b88d-4ba1-b017-43cd9a23dda3",
   "metadata": {},
   "outputs": [
    {
     "data": {
      "text/plain": [
       "31"
      ]
     },
     "execution_count": 60,
     "metadata": {},
     "output_type": "execute_result"
    }
   ],
   "source": [
    "nest2[3][1]"
   ]
  },
  {
   "cell_type": "code",
   "execution_count": 61,
   "id": "83e2f26b-61a1-49e8-82d7-4947646a421d",
   "metadata": {},
   "outputs": [
    {
     "data": {
      "text/plain": [
       "['kermanshah', ['Iran']]"
      ]
     },
     "execution_count": 61,
     "metadata": {},
     "output_type": "execute_result"
    }
   ],
   "source": [
    "nest2[3][2]"
   ]
  },
  {
   "cell_type": "code",
   "execution_count": 62,
   "id": "16aacc7f-fc73-4a99-b6e1-e20cdd77be01",
   "metadata": {},
   "outputs": [
    {
     "data": {
      "text/plain": [
       "['Iran']"
      ]
     },
     "execution_count": 62,
     "metadata": {},
     "output_type": "execute_result"
    }
   ],
   "source": [
    "nest2[3][2][1]"
   ]
  },
  {
   "cell_type": "code",
   "execution_count": 63,
   "id": "26921202-e5ea-4fec-b919-5bfc67ebe5b5",
   "metadata": {},
   "outputs": [
    {
     "data": {
      "text/plain": [
       "'kermanshah'"
      ]
     },
     "execution_count": 63,
     "metadata": {},
     "output_type": "execute_result"
    }
   ],
   "source": [
    "nest2[3][2][0]"
   ]
  },
  {
   "cell_type": "code",
   "execution_count": 64,
   "id": "59da4599-24fc-439b-a4b6-7828c4e9d997",
   "metadata": {},
   "outputs": [],
   "source": [
    "## add a value to the list with specific index ----> .insert(index, value)\n",
    "\n",
    "nest.insert(1, 'apple')"
   ]
  },
  {
   "cell_type": "code",
   "execution_count": 65,
   "id": "df25c550-8098-403e-8d81-b1d6e5ea32fa",
   "metadata": {},
   "outputs": [
    {
     "data": {
      "text/plain": [
       "[15, 'apple', 4, 1994, [31, ['kermanshah']]]"
      ]
     },
     "execution_count": 65,
     "metadata": {},
     "output_type": "execute_result"
    }
   ],
   "source": [
    "nest"
   ]
  },
  {
   "cell_type": "code",
   "execution_count": 66,
   "id": "65d89d2b-1dd8-4fed-a589-9d5a29a4e8ca",
   "metadata": {},
   "outputs": [],
   "source": [
    "## Printing\n",
    "\n",
    "num = 31\n",
    "name = 'Tahereh Parnian'\n",
    "proj = 'Monogram 2'"
   ]
  },
  {
   "cell_type": "code",
   "execution_count": 67,
   "id": "d8bcb015-ba50-4b85-a0a0-69938c297dc0",
   "metadata": {},
   "outputs": [
    {
     "name": "stdout",
     "output_type": "stream",
     "text": [
      "my name is : Tahereh Parnian, my age is : 31 and my project is : Monogram 2. \n"
     ]
    }
   ],
   "source": [
    "print('my name is : {}, my age is : {} and my project is : {}. ' .format(name, num, proj))"
   ]
  },
  {
   "cell_type": "code",
   "execution_count": 68,
   "id": "552d0525-c97e-4d5a-a9ad-8c90fc728775",
   "metadata": {},
   "outputs": [],
   "source": [
    "\n",
    "name  = 'Sarah'\n",
    "sender = 'dataroadmap'\n",
    "class_number = 'Monogram-2'\n"
   ]
  },
  {
   "cell_type": "code",
   "execution_count": 69,
   "id": "0faadd03-2e91-43a3-b1d9-596d79632c69",
   "metadata": {},
   "outputs": [
    {
     "name": "stdout",
     "output_type": "stream",
     "text": [
      "Hello Sarah, this email is from dataroadmap, to inform that your class is Monogram-2.\n"
     ]
    }
   ],
   "source": [
    "print('Hello {}, this email is from {}, to inform that your class is {}.' .format(name, sender, \n",
    "                                                                                  class_number))"
   ]
  },
  {
   "cell_type": "code",
   "execution_count": null,
   "id": "bb6d472e-07da-44a6-9bbf-372001387679",
   "metadata": {},
   "outputs": [],
   "source": []
  },
  {
   "cell_type": "code",
   "execution_count": null,
   "id": "2d586d65-334d-4982-983c-6a19b32bf382",
   "metadata": {},
   "outputs": [],
   "source": []
  }
 ],
 "metadata": {
  "kernelspec": {
   "display_name": "Python 3 (ipykernel)",
   "language": "python",
   "name": "python3"
  },
  "language_info": {
   "codemirror_mode": {
    "name": "ipython",
    "version": 3
   },
   "file_extension": ".py",
   "mimetype": "text/x-python",
   "name": "python",
   "nbconvert_exporter": "python",
   "pygments_lexer": "ipython3",
   "version": "3.13.7"
  }
 },
 "nbformat": 4,
 "nbformat_minor": 5
}
