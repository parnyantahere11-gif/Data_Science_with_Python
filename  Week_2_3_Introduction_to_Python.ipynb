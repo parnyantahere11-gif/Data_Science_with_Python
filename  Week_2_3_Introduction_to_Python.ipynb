{
 "cells": [
  {
   "cell_type": "code",
   "execution_count": null,
   "id": "a5b3339a-677a-43a1-a7f3-28ae51abbc00",
   "metadata": {},
   "outputs": [],
   "source": [
    "\n",
    "######  Introduction  to Python\n",
    "\n",
    "## Data types  : Numbers , Strings , Lists , Tuples, Set, Dictionary , Boolean\n",
    "\n",
    "## Printing\n",
    "\n",
    "## type\n",
    "\n",
    "## for Loops (for / while)\n",
    "\n",
    "## Range\n",
    "\n",
    "## Operators\n",
    "\n",
    "## Python functions\n",
    "\n",
    "## Python list comprehension\n",
    "\n",
    "## lambda Function\n",
    "\n",
    "## Method\n",
    "\n",
    "## Built-in-Function\n",
    "\n"
   ]
  },
  {
   "cell_type": "code",
   "execution_count": 2,
   "id": "77dcc860-fc9d-4b57-ac32-537cd2bb21f3",
   "metadata": {},
   "outputs": [
    {
     "name": "stdout",
     "output_type": "stream",
     "text": [
      "9\n"
     ]
    }
   ],
   "source": [
    "test_var = 4+5\n",
    "\n",
    "print(test_var)"
   ]
  },
  {
   "cell_type": "code",
   "execution_count": 3,
   "id": "4ed4948b-ff5a-4356-8a49-dcae5b32a958",
   "metadata": {},
   "outputs": [
    {
     "name": "stdout",
     "output_type": "stream",
     "text": [
      "Hello, world!\n"
     ]
    }
   ],
   "source": [
    "print(\"Hello, world!\")\n"
   ]
  },
  {
   "cell_type": "code",
   "execution_count": 4,
   "id": "2d885f81-5167-4cf6-b730-c18f7c7a5da9",
   "metadata": {},
   "outputs": [],
   "source": [
    "q1 = 5*4"
   ]
  },
  {
   "cell_type": "code",
   "execution_count": 5,
   "id": "673fd731-c5a3-4cc0-976e-cffedf5f8fd6",
   "metadata": {},
   "outputs": [
    {
     "name": "stdout",
     "output_type": "stream",
     "text": [
      "20\n"
     ]
    }
   ],
   "source": [
    "print(q1)"
   ]
  },
  {
   "cell_type": "code",
   "execution_count": 6,
   "id": "67a0e44c-1a43-4b9c-9366-38269146f59e",
   "metadata": {},
   "outputs": [
    {
     "name": "stdout",
     "output_type": "stream",
     "text": [
      "i love you!\n"
     ]
    }
   ],
   "source": [
    "print(\"i love you!\")"
   ]
  },
  {
   "cell_type": "code",
   "execution_count": 7,
   "id": "493c83c0-32bf-48c8-a62e-33d3b9692e0c",
   "metadata": {},
   "outputs": [
    {
     "name": "stdout",
     "output_type": "stream",
     "text": [
      "ich liebe dich\n"
     ]
    }
   ],
   "source": [
    "print(\"ich liebe dich\")"
   ]
  },
  {
   "cell_type": "code",
   "execution_count": 8,
   "id": "ba5220c3-3975-4108-8f96-ac45ef10364d",
   "metadata": {},
   "outputs": [
    {
     "name": "stdout",
     "output_type": "stream",
     "text": [
      "7\n"
     ]
    }
   ],
   "source": [
    "print(3+4)"
   ]
  },
  {
   "cell_type": "code",
   "execution_count": 9,
   "id": "a32e719c-3420-4fa8-9c38-b3d99882fa01",
   "metadata": {},
   "outputs": [],
   "source": [
    "## TO DO: Set the value of the births_per_min variable\n",
    "\n",
    "births_per_min =1400\n",
    "mins_per_hour = 60\n",
    "hours_per_day = 24\n",
    "\n",
    "\n",
    "## TODO: Set the value of the births_per_day variable\n",
    "\n",
    "births_per_day = births_per_min * mins_per_hour * hours_per_day\n"
   ]
  },
  {
   "cell_type": "code",
   "execution_count": 10,
   "id": "a2de9464-5de4-4f92-9648-3058d69cbd1c",
   "metadata": {},
   "outputs": [
    {
     "name": "stdout",
     "output_type": "stream",
     "text": [
      "2016000\n"
     ]
    }
   ],
   "source": [
    "print (births_per_day)"
   ]
  },
  {
   "cell_type": "code",
   "execution_count": 11,
   "id": "a8a776b4-8707-4c71-be40-82da89379188",
   "metadata": {},
   "outputs": [
    {
     "data": {
      "text/plain": [
       "3"
      ]
     },
     "execution_count": 11,
     "metadata": {},
     "output_type": "execute_result"
    }
   ],
   "source": [
    "##m Numbers\n",
    "\n",
    "# 1) integers ---> 1, 33, 43, ....  2)floating ---> 2.4 , 3.89 , 21.7 , ....\n",
    "\n",
    "1+2"
   ]
  },
  {
   "cell_type": "code",
   "execution_count": 12,
   "id": "52d8ce29-d9bf-4e3e-965a-5a867673a048",
   "metadata": {},
   "outputs": [
    {
     "data": {
      "text/plain": [
       "-2"
      ]
     },
     "execution_count": 12,
     "metadata": {},
     "output_type": "execute_result"
    }
   ],
   "source": [
    "5 - 7"
   ]
  },
  {
   "cell_type": "code",
   "execution_count": 13,
   "id": "4490488c-0830-44c9-9018-083eb5826a8d",
   "metadata": {},
   "outputs": [
    {
     "data": {
      "text/plain": [
       "6.0"
      ]
     },
     "execution_count": 13,
     "metadata": {},
     "output_type": "execute_result"
    }
   ],
   "source": [
    "36 / 6"
   ]
  },
  {
   "cell_type": "code",
   "execution_count": 14,
   "id": "4ed8bfe5-8904-4510-bc66-53a530113950",
   "metadata": {},
   "outputs": [
    {
     "data": {
      "text/plain": [
       "1"
      ]
     },
     "execution_count": 14,
     "metadata": {},
     "output_type": "execute_result"
    }
   ],
   "source": [
    "15 % 2"
   ]
  },
  {
   "cell_type": "code",
   "execution_count": 15,
   "id": "f7950705-7c91-4044-88da-8965325a2a39",
   "metadata": {},
   "outputs": [
    {
     "data": {
      "text/plain": [
       "1"
      ]
     },
     "execution_count": 15,
     "metadata": {},
     "output_type": "execute_result"
    }
   ],
   "source": [
    "(3 + 6) - (2 ** 3)"
   ]
  },
  {
   "cell_type": "code",
   "execution_count": 16,
   "id": "875473e3-ca16-48f6-9745-571345853c2e",
   "metadata": {},
   "outputs": [
    {
     "data": {
      "text/plain": [
       "12"
      ]
     },
     "execution_count": 16,
     "metadata": {},
     "output_type": "execute_result"
    }
   ],
   "source": [
    "## Variable Assignment \n",
    "# Can not start with number or special characters\n",
    "\n",
    "num_of_var= 2\n",
    "x = 4\n",
    "y = 3\n",
    "z = x * y\n",
    "z"
   ]
  },
  {
   "cell_type": "code",
   "execution_count": 17,
   "id": "b4fb6101-eb2b-49a0-90a4-88a5704fd152",
   "metadata": {},
   "outputs": [
    {
     "data": {
      "text/plain": [
       "'l'"
      ]
     },
     "execution_count": 17,
     "metadata": {},
     "output_type": "execute_result"
    }
   ],
   "source": [
    "## Strings\n",
    "# A String of Carachters made within '' or \" \" . separated by , \n",
    "\n",
    "a = \"talapy\"\n",
    "a[2]"
   ]
  },
  {
   "cell_type": "code",
   "execution_count": 18,
   "id": "4413a0dd-6231-4567-ac85-b7976db6c953",
   "metadata": {},
   "outputs": [
    {
     "data": {
      "text/plain": [
       "'tal'"
      ]
     },
     "execution_count": 18,
     "metadata": {},
     "output_type": "execute_result"
    }
   ],
   "source": [
    "a[:3]"
   ]
  },
  {
   "cell_type": "code",
   "execution_count": 19,
   "id": "4750f3d3-3f4d-41a5-ac47-71574a1e4ea8",
   "metadata": {},
   "outputs": [
    {
     "data": {
      "text/plain": [
       "'lapy'"
      ]
     },
     "execution_count": 19,
     "metadata": {},
     "output_type": "execute_result"
    }
   ],
   "source": [
    "a[2:]"
   ]
  },
  {
   "cell_type": "code",
   "execution_count": 20,
   "id": "dc6a0343-9a93-4ae8-8c87-b7d6f233bda1",
   "metadata": {},
   "outputs": [
    {
     "data": {
      "text/plain": [
       "'ala'"
      ]
     },
     "execution_count": 20,
     "metadata": {},
     "output_type": "execute_result"
    }
   ],
   "source": [
    "a[1:4]"
   ]
  },
  {
   "cell_type": "code",
   "execution_count": 21,
   "id": "e0623a66-42e8-4ee0-b586-17db29f17e9d",
   "metadata": {},
   "outputs": [
    {
     "data": {
      "text/plain": [
       "'ta'"
      ]
     },
     "execution_count": 21,
     "metadata": {},
     "output_type": "execute_result"
    }
   ],
   "source": [
    "a[: -4]"
   ]
  },
  {
   "cell_type": "code",
   "execution_count": 22,
   "id": "2e7552ae-4b02-46a6-8d1b-d73dbd03ea37",
   "metadata": {},
   "outputs": [
    {
     "data": {
      "text/plain": [
       "'talap'"
      ]
     },
     "execution_count": 22,
     "metadata": {},
     "output_type": "execute_result"
    }
   ],
   "source": [
    "a[-6: -1]"
   ]
  },
  {
   "cell_type": "code",
   "execution_count": 23,
   "id": "f3c38691-2c9d-4a81-b0f7-b6567b96cdba",
   "metadata": {},
   "outputs": [
    {
     "data": {
      "text/plain": [
       "('data', 'iran', 'hometown', 'parents')"
      ]
     },
     "execution_count": 23,
     "metadata": {},
     "output_type": "execute_result"
    }
   ],
   "source": [
    "b = ('data', 'iran', 'hometown' , 'parents')\n",
    "b"
   ]
  },
  {
   "cell_type": "code",
   "execution_count": 24,
   "id": "fd60959e-8748-4111-a5ac-7017450e42d8",
   "metadata": {},
   "outputs": [
    {
     "data": {
      "text/plain": [
       "'a'"
      ]
     },
     "execution_count": 24,
     "metadata": {},
     "output_type": "execute_result"
    }
   ],
   "source": [
    "b[0][3]"
   ]
  },
  {
   "cell_type": "code",
   "execution_count": 25,
   "id": "3b7fa6d6-5447-44e6-bd04-885eb9bf3911",
   "metadata": {},
   "outputs": [
    {
     "data": {
      "text/plain": [
       "('iran', 'hometown', 'parents')"
      ]
     },
     "execution_count": 25,
     "metadata": {},
     "output_type": "execute_result"
    }
   ],
   "source": [
    "b[1:4]"
   ]
  },
  {
   "cell_type": "code",
   "execution_count": 26,
   "id": "f7290bd2-ba02-4d59-9450-29355a4f3175",
   "metadata": {},
   "outputs": [
    {
     "name": "stdout",
     "output_type": "stream",
     "text": [
      "My age is: 31, and my name is: Tahereh_Parnian\n"
     ]
    }
   ],
   "source": [
    "\n",
    "num= 31\n",
    "name= 'Tahereh_Parnian'\n",
    "\n",
    "print('My age is: {}, and my name is: {}' .format(num,name))\n"
   ]
  },
  {
   "cell_type": "code",
   "execution_count": 27,
   "id": "de0324ac-cbb8-4553-b538-ec6f837705ff",
   "metadata": {},
   "outputs": [
    {
     "data": {
      "text/plain": [
       "[15,\n",
       " 4,\n",
       " 1994,\n",
       " 'kermanshah',\n",
       " 'iran',\n",
       " [12, 7, 1988, 'Ehsan_Ahmadi', ['kermanshah', 'iran']]]"
      ]
     },
     "execution_count": 27,
     "metadata": {},
     "output_type": "execute_result"
    }
   ],
   "source": [
    "## List\n",
    "\n",
    "my_list = [15, 4, 1994, \"kermanshah\", 'iran', [12,7,1988, 'Ehsan_Ahmadi', ['kermanshah', 'iran']]]\n",
    "\n",
    "my_list"
   ]
  },
  {
   "cell_type": "code",
   "execution_count": 28,
   "id": "fa3ddb80-5b59-4a07-91f2-486dfd9932aa",
   "metadata": {},
   "outputs": [
    {
     "data": {
      "text/plain": [
       "1994"
      ]
     },
     "execution_count": 28,
     "metadata": {},
     "output_type": "execute_result"
    }
   ],
   "source": [
    "my_list[2]"
   ]
  },
  {
   "cell_type": "code",
   "execution_count": 29,
   "id": "961b98bf-f306-4851-9680-a9691d2f1735",
   "metadata": {},
   "outputs": [
    {
     "data": {
      "text/plain": [
       "[26,\n",
       " 1,\n",
       " 1373,\n",
       " 'kermanshah',\n",
       " 'iran',\n",
       " [12, 7, 1988, 'Ehsan_Ahmadi', ['kermanshah', 'iran']]]"
      ]
     },
     "execution_count": 29,
     "metadata": {},
     "output_type": "execute_result"
    }
   ],
   "source": [
    "my_list[2]= 1373\n",
    "my_list[1]= 1\n",
    "my_list[0]= 26\n",
    "my_list"
   ]
  },
  {
   "cell_type": "code",
   "execution_count": 30,
   "id": "356ed15f-f02e-430e-91af-26ad591efaf0",
   "metadata": {},
   "outputs": [
    {
     "data": {
      "text/plain": [
       "[26,\n",
       " 1,\n",
       " 1373,\n",
       " 'kermanshah',\n",
       " 'iran',\n",
       " [21, 4, 1367, 'Ehsan_Ahmadi', ['kermanshah', 'iran']]]"
      ]
     },
     "execution_count": 30,
     "metadata": {},
     "output_type": "execute_result"
    }
   ],
   "source": [
    "my_list[5][2]= 1367\n",
    "my_list[5][1]= 4\n",
    "my_list[5][0]= 21\n",
    "my_list"
   ]
  },
  {
   "cell_type": "code",
   "execution_count": 31,
   "id": "d2737b5a-ede7-4436-b0cf-d80fa1d0227b",
   "metadata": {},
   "outputs": [
    {
     "data": {
      "text/plain": [
       "[12, 26, 4, [24, 2, 16, [66, 'Kermanshah', 'iran']]]"
      ]
     },
     "execution_count": 31,
     "metadata": {},
     "output_type": "execute_result"
    }
   ],
   "source": [
    "## Nested List\n",
    "\n",
    "nest= [12, 26, 4, [24, 2, 16,[66, 'Kermanshah', 'iran']]]\n",
    "nest"
   ]
  },
  {
   "cell_type": "code",
   "execution_count": 32,
   "id": "976aec54-0788-4fed-8498-7ab984c2c6c9",
   "metadata": {},
   "outputs": [
    {
     "data": {
      "text/plain": [
       "[12, 26, 4, [24, 2, 16, [66, 'Wiesbaden', 'Germany']]]"
      ]
     },
     "execution_count": 32,
     "metadata": {},
     "output_type": "execute_result"
    }
   ],
   "source": [
    "nest[3][3][1]= 'Wiesbaden'\n",
    "nest[3][3][2]= 'Germany'\n",
    "nest  "
   ]
  },
  {
   "cell_type": "code",
   "execution_count": 33,
   "id": "7408ecb6-9f68-4d62-b17d-965577dd646c",
   "metadata": {},
   "outputs": [
    {
     "data": {
      "text/plain": [
       "[26,\n",
       " 1,\n",
       " 1373,\n",
       " 'kermanshah',\n",
       " 'iran',\n",
       " [21, 4, 1367, 'Ehsan_Ahmadi', ['kermanshah', 'iran']],\n",
       " 'World']"
      ]
     },
     "execution_count": 33,
     "metadata": {},
     "output_type": "execute_result"
    }
   ],
   "source": [
    "## add a value to the end of the list  ----> .append()\n",
    "\n",
    "my_list.append('World')\n",
    "my_list"
   ]
  },
  {
   "cell_type": "code",
   "execution_count": 34,
   "id": "ab876e4a-0d6d-48bc-b02b-8e4597f1013b",
   "metadata": {},
   "outputs": [
    {
     "data": {
      "text/plain": [
       "[26,\n",
       " 1,\n",
       " 1373,\n",
       " 'Kurd',\n",
       " 'kermanshah',\n",
       " 'iran',\n",
       " [21, 4, 1367, 'Ehsan_Ahmadi', ['kermanshah', 'iran']],\n",
       " 'World']"
      ]
     },
     "execution_count": 34,
     "metadata": {},
     "output_type": "execute_result"
    }
   ],
   "source": [
    "## add a value to the list with specific index ----> .insert(index, value)\n",
    "\n",
    "my_list.insert(3, 'Kurd')\n",
    "my_list"
   ]
  },
  {
   "cell_type": "code",
   "execution_count": 35,
   "id": "341ef0af-28aa-4867-af6d-2e1198725bda",
   "metadata": {},
   "outputs": [
    {
     "data": {
      "text/plain": [
       "(12, 7, 1988, 'Kurd')"
      ]
     },
     "execution_count": 35,
     "metadata": {},
     "output_type": "execute_result"
    }
   ],
   "source": [
    "## Tuple\n",
    "# In Tupels values are written in () , while in list are written in [] . \n",
    "# Tupels is immutable; means we cannot change (line 74) the values and they would be same as defult, while lists' values can change.\n",
    "\n",
    "my_tuple= (12, 7, 1988, 'Kurd')\n",
    "\n",
    "my_tuple\n"
   ]
  },
  {
   "cell_type": "code",
   "execution_count": 36,
   "id": "b3d0dd9a-46a5-4d6a-a670-af0acea887be",
   "metadata": {},
   "outputs": [
    {
     "data": {
      "text/plain": [
       "'Kurd'"
      ]
     },
     "execution_count": 36,
     "metadata": {},
     "output_type": "execute_result"
    }
   ],
   "source": [
    "my_tuple[3]"
   ]
  },
  {
   "cell_type": "code",
   "execution_count": 50,
   "id": "2ca51a79-705d-409a-a745-cb42f9cd2ed4",
   "metadata": {},
   "outputs": [
    {
     "data": {
      "text/plain": [
       "[1, 3, 4, 6, 2, 4, 6]"
      ]
     },
     "execution_count": 50,
     "metadata": {},
     "output_type": "execute_result"
    }
   ],
   "source": [
    "## Set\n",
    "# In Set values are written in {} , while in Tuple are written  in () and in list are written in [] .\n",
    "# We cannot have repeated value in set (line 77), while in list it has no problem.\n",
    "# index doesn't mean anything here and in dictionary\n",
    "\n",
    "list_1 = [1, 3, 4, 6, 2, 4, 6] \n",
    "tuple_1 = (1, 3, 4, 6, 2, 4, 6)\n",
    "my_set = {1, 3, 4, 6, 2, 4, 6}\n",
    "\n",
    "list_1"
   ]
  },
  {
   "cell_type": "code",
   "execution_count": 51,
   "id": "d0063002-199f-4747-878d-b395c30cb0b2",
   "metadata": {},
   "outputs": [
    {
     "data": {
      "text/plain": [
       "(1, 3, 4, 6, 2, 4, 6)"
      ]
     },
     "execution_count": 51,
     "metadata": {},
     "output_type": "execute_result"
    }
   ],
   "source": [
    "tuple_1"
   ]
  },
  {
   "cell_type": "code",
   "execution_count": 52,
   "id": "98d46979-45b5-461b-bbfc-c7ed7a240ce6",
   "metadata": {},
   "outputs": [
    {
     "data": {
      "text/plain": [
       "{1, 2, 3, 4, 6}"
      ]
     },
     "execution_count": 52,
     "metadata": {},
     "output_type": "execute_result"
    }
   ],
   "source": [
    "my_set "
   ]
  },
  {
   "cell_type": "code",
   "execution_count": 54,
   "id": "3252baa3-608d-4196-8c84-2a1932fcbea9",
   "metadata": {},
   "outputs": [
    {
     "data": {
      "text/plain": [
       "{1, 2, 3, 4, 6, 12}"
      ]
     },
     "execution_count": 54,
     "metadata": {},
     "output_type": "execute_result"
    }
   ],
   "source": [
    "## add a value to the end of the Set  ----> .add()\n",
    "\n",
    "my_set.add(12)\n",
    "my_set"
   ]
  },
  {
   "cell_type": "code",
   "execution_count": 121,
   "id": "3a3f5f04-e3d9-4dc4-baec-130168377ad4",
   "metadata": {},
   "outputs": [
    {
     "data": {
      "text/plain": [
       "{1, 2, 3, 4, 6}"
      ]
     },
     "execution_count": 121,
     "metadata": {},
     "output_type": "execute_result"
    }
   ],
   "source": [
    "## How to change the type \n",
    "\n",
    "new_set = set(list_1)\n",
    "new_set"
   ]
  },
  {
   "cell_type": "code",
   "execution_count": 128,
   "id": "85bbbb80-ca47-4c69-bcf3-46909772f8d4",
   "metadata": {},
   "outputs": [],
   "source": [
    "\n",
    "\n",
    "## The key Difference between set and list is that in set We cannot have repeated value, while in list it has no problem.\n",
    "## set = {}  ,  list = []  ,  tuple = ()  ,  Dict = {'key' : 'value'}\n",
    "\n",
    "## The key Difference between tuple and list is that while tuple is immutable, list is mutable(changable). \n",
    "\n",
    "## in set and dictionary we don't have Index. \n",
    "\n"
   ]
  },
  {
   "cell_type": "code",
   "execution_count": 129,
   "id": "4b1dfdde-7585-4f99-a912-3bb5038060c6",
   "metadata": {},
   "outputs": [
    {
     "data": {
      "text/plain": [
       "\u001b[31mSignature:\u001b[39m tuple_1.count(value, /)\n",
       "\u001b[31mDocstring:\u001b[39m Return number of occurrences of value.\n",
       "\u001b[31mType:\u001b[39m      builtin_function_or_method"
      ]
     },
     "metadata": {},
     "output_type": "display_data"
    }
   ],
   "source": [
    "# If you don't know what A method does:\n",
    "#1\n",
    "\n",
    "tuple_1.count?"
   ]
  },
  {
   "cell_type": "code",
   "execution_count": 130,
   "id": "a05e36b6-15d3-47df-8476-4947d0388747",
   "metadata": {},
   "outputs": [
    {
     "name": "stdout",
     "output_type": "stream",
     "text": [
      "Help on built-in function count:\n",
      "\n",
      "count(value, /) method of builtins.tuple instance\n",
      "    Return number of occurrences of value.\n",
      "\n"
     ]
    }
   ],
   "source": [
    "#or 2\n",
    "\n",
    "help(tuple_1.count)"
   ]
  },
  {
   "cell_type": "code",
   "execution_count": 57,
   "id": "3255d3c7-2805-4761-92b3-6b68de0011d5",
   "metadata": {},
   "outputs": [
    {
     "data": {
      "text/plain": [
       "2"
      ]
     },
     "execution_count": 57,
     "metadata": {},
     "output_type": "execute_result"
    }
   ],
   "source": [
    "#3 Holding shift tab and even +\n",
    "# How many time the value is reapeated or written? ---> .count(value)\n",
    "\n",
    "# How many time value 4 is written? count(4)   ---> 2 (twice)\n",
    "\n",
    "tuple_1.count(4)"
   ]
  },
  {
   "cell_type": "code",
   "execution_count": 58,
   "id": "dce8e203-b2e4-45c0-a0f9-675a0c1f54da",
   "metadata": {},
   "outputs": [
    {
     "data": {
      "text/plain": [
       "{1, 2, 3, 4, 6, 12}"
      ]
     },
     "execution_count": 58,
     "metadata": {},
     "output_type": "execute_result"
    }
   ],
   "source": [
    "my_set"
   ]
  },
  {
   "cell_type": "code",
   "execution_count": 59,
   "id": "7c68cfcd-07aa-4168-8798-59c7bfd1ff09",
   "metadata": {},
   "outputs": [
    {
     "data": {
      "text/plain": [
       "{'key1': 'apple', 'key2': 'banana'}"
      ]
     },
     "execution_count": 59,
     "metadata": {},
     "output_type": "execute_result"
    }
   ],
   "source": [
    "\n",
    "# Dictionary \n",
    "# Data is written in {}. --> Dict = {'key' : 'value'}\n",
    "# Each one has 2 parts, order does not matter and index doesn't mean anything here(line 81).\n",
    "# keys are called by first part and values are called by second part. \n",
    "\n",
    "my_dic = {'key1': 'apple', 'key2': 'banana'}\n",
    "my_dic"
   ]
  },
  {
   "cell_type": "code",
   "execution_count": null,
   "id": "ccfacdfa-7b31-4684-aacd-be88a3a6b912",
   "metadata": {},
   "outputs": [],
   "source": [
    "my_dic[0] # ---> error  "
   ]
  },
  {
   "cell_type": "code",
   "execution_count": 61,
   "id": "db88ae5e-e4d5-4fb6-a9f1-d96f5de95095",
   "metadata": {},
   "outputs": [
    {
     "data": {
      "text/plain": [
       "'apple'"
      ]
     },
     "execution_count": 61,
     "metadata": {},
     "output_type": "execute_result"
    }
   ],
   "source": [
    "my_dic['key1']"
   ]
  },
  {
   "cell_type": "code",
   "execution_count": 62,
   "id": "8fb6f744-4b83-4468-808f-1ea4ed990e4d",
   "metadata": {},
   "outputs": [
    {
     "data": {
      "text/plain": [
       "{'a': 'sweet', 'b': 1994, 'c': [26, 1, [1373]]}"
      ]
     },
     "execution_count": 62,
     "metadata": {},
     "output_type": "execute_result"
    }
   ],
   "source": [
    "my_dic2 = {'a': 'sweet', 'b': 1994 ,'c': [26, 1, [1373]]} \n",
    "my_dic2"
   ]
  },
  {
   "cell_type": "code",
   "execution_count": 63,
   "id": "e9346a78-24c9-458b-8698-871b391b4dae",
   "metadata": {},
   "outputs": [
    {
     "data": {
      "text/plain": [
       "[26, 1, [1373]]"
      ]
     },
     "execution_count": 63,
     "metadata": {},
     "output_type": "execute_result"
    }
   ],
   "source": [
    "my_dic2 ['c']"
   ]
  },
  {
   "cell_type": "code",
   "execution_count": 64,
   "id": "93ac55b2-4b73-463e-92f2-39d3b3828176",
   "metadata": {},
   "outputs": [
    {
     "data": {
      "text/plain": [
       "[1373]"
      ]
     },
     "execution_count": 64,
     "metadata": {},
     "output_type": "execute_result"
    }
   ],
   "source": [
    "my_dic2 ['c'][2]"
   ]
  },
  {
   "cell_type": "code",
   "execution_count": 65,
   "id": "3c1ca172-b202-4f22-8105-444e91f085c9",
   "metadata": {},
   "outputs": [
    {
     "data": {
      "text/plain": [
       "{'Ehsan': [37, 'photographer'],\n",
       " 'Mahya': [31, 'radiotherapist'],\n",
       " 'Leila': [40, 'banker']}"
      ]
     },
     "execution_count": 65,
     "metadata": {},
     "output_type": "execute_result"
    }
   ],
   "source": [
    "my_dic3= {'Ehsan': [37, 'photographer'] , 'Mahya': [31, 'radiotherapist'] ,'Leila': [40, 'banker']}\n",
    "my_dic3"
   ]
  },
  {
   "cell_type": "code",
   "execution_count": 122,
   "id": "c900f6fb-edb3-4f39-a032-196e7ca9ee56",
   "metadata": {},
   "outputs": [
    {
     "data": {
      "text/plain": [
       "True"
      ]
     },
     "execution_count": 122,
     "metadata": {},
     "output_type": "execute_result"
    }
   ],
   "source": [
    "\n",
    "# Boolean\n",
    "\n",
    "# Value True / False\n",
    "\n",
    "True"
   ]
  },
  {
   "cell_type": "code",
   "execution_count": null,
   "id": "600c3175-5682-410e-925e-ab5a61f1180b",
   "metadata": {},
   "outputs": [],
   "source": [
    "False"
   ]
  },
  {
   "cell_type": "code",
   "execution_count": 123,
   "id": "210c5e77-f3e5-4688-87a6-131c9fe6c0c4",
   "metadata": {},
   "outputs": [
    {
     "data": {
      "text/plain": [
       "False"
      ]
     },
     "execution_count": 123,
     "metadata": {},
     "output_type": "execute_result"
    }
   ],
   "source": [
    "False"
   ]
  },
  {
   "cell_type": "code",
   "execution_count": 124,
   "id": "21d16679-7bf3-47ef-a704-586a9336d18a",
   "metadata": {},
   "outputs": [
    {
     "data": {
      "text/plain": [
       "bool"
      ]
     },
     "execution_count": 124,
     "metadata": {},
     "output_type": "execute_result"
    }
   ],
   "source": [
    "# Type of True \n",
    "\n",
    "type(True)"
   ]
  },
  {
   "cell_type": "code",
   "execution_count": 125,
   "id": "6aa6d48f-5997-4668-a1f8-0f6f47923183",
   "metadata": {},
   "outputs": [
    {
     "data": {
      "text/plain": [
       "False"
      ]
     },
     "execution_count": 125,
     "metadata": {},
     "output_type": "execute_result"
    }
   ],
   "source": [
    "4>8"
   ]
  },
  {
   "cell_type": "code",
   "execution_count": 126,
   "id": "ce873638-2fc5-40fc-9a4c-a1267796180e",
   "metadata": {},
   "outputs": [
    {
     "data": {
      "text/plain": [
       "True"
      ]
     },
     "execution_count": 126,
     "metadata": {},
     "output_type": "execute_result"
    }
   ],
   "source": [
    "1<7"
   ]
  },
  {
   "cell_type": "code",
   "execution_count": 127,
   "id": "fc9fa025-ddfd-4632-9b1a-9f01c7619de7",
   "metadata": {},
   "outputs": [
    {
     "data": {
      "text/plain": [
       "True"
      ]
     },
     "execution_count": 127,
     "metadata": {},
     "output_type": "execute_result"
    }
   ],
   "source": [
    "# Comparible, if, elif, else.\n",
    "\n",
    "# Comparison Operator\n",
    "# Checks if 1 is equal to 1.\n",
    "\n",
    "1 == 1"
   ]
  },
  {
   "cell_type": "code",
   "execution_count": 70,
   "id": "5a4e5db2-8cd0-46bb-ba2d-e6ea1abdb796",
   "metadata": {},
   "outputs": [
    {
     "data": {
      "text/plain": [
       "True"
      ]
     },
     "execution_count": 70,
     "metadata": {},
     "output_type": "execute_result"
    }
   ],
   "source": [
    "1 <= 4"
   ]
  },
  {
   "cell_type": "code",
   "execution_count": 71,
   "id": "060e3e04-004f-47a1-ad10-8ff493e319f5",
   "metadata": {},
   "outputs": [
    {
     "data": {
      "text/plain": [
       "False"
      ]
     },
     "execution_count": 71,
     "metadata": {},
     "output_type": "execute_result"
    }
   ],
   "source": [
    "'Hello' == 'Goodbye'"
   ]
  },
  {
   "cell_type": "code",
   "execution_count": 72,
   "id": "ddd88120-896b-4553-8f3b-912d92b072ad",
   "metadata": {},
   "outputs": [],
   "source": [
    "#other common comparison operators in Python:\n",
    "# == → equal\n",
    "# != → not equal\n",
    "# < → less than\n",
    "# > → greater than\n",
    "# <= → less than or equal\n",
    "# >= → greater than or equal"
   ]
  },
  {
   "cell_type": "code",
   "execution_count": 73,
   "id": "009ba4ff-5b8e-402d-9847-df2ea991ba0a",
   "metadata": {},
   "outputs": [
    {
     "data": {
      "text/plain": [
       "False"
      ]
     },
     "execution_count": 73,
     "metadata": {},
     "output_type": "execute_result"
    }
   ],
   "source": [
    "'Hi'== 'Hello'"
   ]
  },
  {
   "cell_type": "code",
   "execution_count": 74,
   "id": "7063b4c3-f7a5-4d3f-8962-7c9da2d348ae",
   "metadata": {},
   "outputs": [
    {
     "data": {
      "text/plain": [
       "True"
      ]
     },
     "execution_count": 74,
     "metadata": {},
     "output_type": "execute_result"
    }
   ],
   "source": [
    "'bye'!= 'goodbye'"
   ]
  },
  {
   "cell_type": "code",
   "execution_count": 75,
   "id": "23940d78-46c6-49e5-8c5a-9faa6ec8d168",
   "metadata": {},
   "outputs": [
    {
     "data": {
      "text/plain": [
       "False"
      ]
     },
     "execution_count": 75,
     "metadata": {},
     "output_type": "execute_result"
    }
   ],
   "source": [
    "# Logic Operators\n",
    "\n",
    "(1 > 2) and (2 < 3)\n"
   ]
  },
  {
   "cell_type": "code",
   "execution_count": 76,
   "id": "8b6212b6-f015-4c15-8adf-6a275cb8dd9f",
   "metadata": {},
   "outputs": [
    {
     "data": {
      "text/plain": [
       "True"
      ]
     },
     "execution_count": 76,
     "metadata": {},
     "output_type": "execute_result"
    }
   ],
   "source": [
    "(1 > 2) or (2 < 3)\n"
   ]
  },
  {
   "cell_type": "code",
   "execution_count": 77,
   "id": "058a6841-3c38-4de2-b530-1dfeb4d4e03c",
   "metadata": {},
   "outputs": [
    {
     "data": {
      "text/plain": [
       "True"
      ]
     },
     "execution_count": 77,
     "metadata": {},
     "output_type": "execute_result"
    }
   ],
   "source": [
    "(1 == 2) or (2 == 3) or (4 == 4)"
   ]
  },
  {
   "cell_type": "code",
   "execution_count": 78,
   "id": "5e0d222e-ebef-435d-bd5c-ce885f7bf929",
   "metadata": {},
   "outputs": [],
   "source": [
    "# and → all conditions must be True.\n",
    "# or → at least one condition must be True.\n",
    "# not → reverses True ↔ False.\n"
   ]
  },
  {
   "cell_type": "code",
   "execution_count": 79,
   "id": "fd19773f-5caf-447b-8ce5-6fd802d10694",
   "metadata": {},
   "outputs": [
    {
     "name": "stdout",
     "output_type": "stream",
     "text": [
      "Yep!\n"
     ]
    }
   ],
   "source": [
    "# if,elif, else Statements\n",
    "\n",
    "\n",
    "if 1 < 2:\n",
    "    print('Yep!')\n"
   ]
  },
  {
   "cell_type": "code",
   "execution_count": 80,
   "id": "5d11ffe3-fb87-4992-b58e-163ca712874f",
   "metadata": {},
   "outputs": [
    {
     "name": "stdout",
     "output_type": "stream",
     "text": [
      "first\n"
     ]
    }
   ],
   "source": [
    "if 2 < 3:\n",
    "    print('first')\n",
    "else:\n",
    "    print('last')\n"
   ]
  },
  {
   "cell_type": "code",
   "execution_count": 81,
   "id": "c73ffdcd-b597-4166-8d8a-44cd09f974c4",
   "metadata": {},
   "outputs": [
    {
     "name": "stdout",
     "output_type": "stream",
     "text": [
      "last\n"
     ]
    }
   ],
   "source": [
    "if 2 > 3:\n",
    "    print('first')\n",
    "else:\n",
    "    print('last')\n"
   ]
  },
  {
   "cell_type": "code",
   "execution_count": 82,
   "id": "fb009b56-0357-48ae-ba59-5803727c9bb9",
   "metadata": {},
   "outputs": [
    {
     "name": "stdout",
     "output_type": "stream",
     "text": [
      "middle\n"
     ]
    }
   ],
   "source": [
    "if 1 == 2:\n",
    "    print('first')\n",
    "elif 3 == 3:\n",
    "    print('middle')\n",
    "else:\n",
    "    print('Last')"
   ]
  },
  {
   "cell_type": "code",
   "execution_count": 83,
   "id": "99b62e8d-89ef-4582-ae07-07bdacc14584",
   "metadata": {
    "scrolled": true
   },
   "outputs": [
    {
     "name": "stdout",
     "output_type": "stream",
     "text": [
      "Last\n"
     ]
    }
   ],
   "source": [
    "if 1 == 2:\n",
    "    print('first')\n",
    "elif 3 != 3:\n",
    "    print('middle')\n",
    "else:\n",
    "    print('Last')"
   ]
  },
  {
   "cell_type": "code",
   "execution_count": 84,
   "id": "95d132e9-0a18-4792-855d-54d8baf27f8d",
   "metadata": {},
   "outputs": [],
   "source": [
    "## Data Type in python\n"
   ]
  },
  {
   "cell_type": "code",
   "execution_count": 85,
   "id": "15b1d6ba-d7f3-47f5-9e40-de61fe21e368",
   "metadata": {},
   "outputs": [
    {
     "data": {
      "text/plain": [
       "int"
      ]
     },
     "execution_count": 85,
     "metadata": {},
     "output_type": "execute_result"
    }
   ],
   "source": [
    "my_data3= 2\n",
    "type(my_data3)\n"
   ]
  },
  {
   "cell_type": "code",
   "execution_count": 86,
   "id": "e85a5425-4782-4875-a9c6-91b312b3cf1b",
   "metadata": {},
   "outputs": [
    {
     "data": {
      "text/plain": [
       "str"
      ]
     },
     "execution_count": 86,
     "metadata": {},
     "output_type": "execute_result"
    }
   ],
   "source": [
    "my_data4 = '26'\n",
    "type(my_data4)"
   ]
  },
  {
   "cell_type": "code",
   "execution_count": 87,
   "id": "b5a2dc8e-acba-4093-9c11-a0119ab6eade",
   "metadata": {},
   "outputs": [
    {
     "data": {
      "text/plain": [
       "dict"
      ]
     },
     "execution_count": 87,
     "metadata": {},
     "output_type": "execute_result"
    }
   ],
   "source": [
    "my_dic3= {'Ehsan': [37, 'photographer'] , 'Mahya': [31, 'radiotherapist'] ,'Leila': [40, 'banker']}\n",
    "type(my_dic3)"
   ]
  },
  {
   "cell_type": "code",
   "execution_count": 88,
   "id": "4112dc04-5eb4-43b6-9af5-a67c1a762eb0",
   "metadata": {},
   "outputs": [
    {
     "data": {
      "text/plain": [
       "float"
      ]
     },
     "execution_count": 88,
     "metadata": {},
     "output_type": "execute_result"
    }
   ],
   "source": [
    "my_data4= 2.6\n",
    "type(my_data4)"
   ]
  },
  {
   "cell_type": "code",
   "execution_count": 89,
   "id": "40bade03-4b44-4171-b13c-0b6a624ea91c",
   "metadata": {},
   "outputs": [
    {
     "data": {
      "text/plain": [
       "list"
      ]
     },
     "execution_count": 89,
     "metadata": {},
     "output_type": "execute_result"
    }
   ],
   "source": [
    "my_list = [15, 4, 1994, \"kermanshah\", 'iran', [12,7,1988, 'Ehsan_Ahmadi', ['kermanshah', 'iran']]]\n",
    "type(my_list)"
   ]
  },
  {
   "cell_type": "code",
   "execution_count": 90,
   "id": "c9e2f32f-3ef7-453e-94fe-af7cac969c80",
   "metadata": {},
   "outputs": [
    {
     "data": {
      "text/plain": [
       "tuple"
      ]
     },
     "execution_count": 90,
     "metadata": {},
     "output_type": "execute_result"
    }
   ],
   "source": [
    "tuple_1 = (1, 3, 4, 6, 2, 4, 6)\n",
    "type(tuple_1) "
   ]
  },
  {
   "cell_type": "code",
   "execution_count": 91,
   "id": "80405be4-406e-4393-a133-70df1e959dd3",
   "metadata": {},
   "outputs": [
    {
     "data": {
      "text/plain": [
       "{1, 2, 3, 4, 6}"
      ]
     },
     "execution_count": 91,
     "metadata": {},
     "output_type": "execute_result"
    }
   ],
   "source": [
    "## How to see which value is unique? we need to change the type to set,\n",
    "# because set has unique variables and variables cannot be repeated. \n",
    "\n",
    "my_new_tuple_1= set(tuple_1)\n",
    "my_new_tuple_1"
   ]
  },
  {
   "cell_type": "code",
   "execution_count": 92,
   "id": "b9915d2c-5059-4b9c-a3e7-0c437943b627",
   "metadata": {},
   "outputs": [
    {
     "data": {
      "text/plain": [
       "set"
      ]
     },
     "execution_count": 92,
     "metadata": {},
     "output_type": "execute_result"
    }
   ],
   "source": [
    "my_set = {1, 3, 4, 6, 2, 4, 6}\n",
    "type(my_set)"
   ]
  },
  {
   "cell_type": "code",
   "execution_count": 93,
   "id": "11cf654b-c247-491f-996f-e0aab77703f4",
   "metadata": {},
   "outputs": [
    {
     "data": {
      "text/plain": [
       "{1, 2, 3, 4, 6, 8}"
      ]
     },
     "execution_count": 93,
     "metadata": {},
     "output_type": "execute_result"
    }
   ],
   "source": [
    "## To add a value to set --> .add()\n",
    "\n",
    "my_set.add(8)\n",
    "my_set"
   ]
  },
  {
   "cell_type": "code",
   "execution_count": 94,
   "id": "09843cdc-f21c-47b2-b1cf-365403c736dd",
   "metadata": {},
   "outputs": [
    {
     "data": {
      "text/plain": [
       "str"
      ]
     },
     "execution_count": 94,
     "metadata": {},
     "output_type": "execute_result"
    }
   ],
   "source": [
    "## How to change the data type :  = int() / str()\n",
    "\n",
    "my_data4 = '26'\n",
    "type(my_data4)\n"
   ]
  },
  {
   "cell_type": "code",
   "execution_count": 95,
   "id": "86c45c6c-b3e5-4cfe-b012-0f5805871b4d",
   "metadata": {},
   "outputs": [
    {
     "data": {
      "text/plain": [
       "int"
      ]
     },
     "execution_count": 95,
     "metadata": {},
     "output_type": "execute_result"
    }
   ],
   "source": [
    "new_data = int(my_data4)\n",
    "type(new_data)"
   ]
  },
  {
   "cell_type": "code",
   "execution_count": 96,
   "id": "c6702518-251f-4a0e-b0c0-3f4796c11c66",
   "metadata": {},
   "outputs": [
    {
     "data": {
      "text/plain": [
       "str"
      ]
     },
     "execution_count": 96,
     "metadata": {},
     "output_type": "execute_result"
    }
   ],
   "source": [
    "new_list = str(my_list)\n",
    "type(new_list)"
   ]
  },
  {
   "cell_type": "code",
   "execution_count": 97,
   "id": "40d07bc8-591a-4cd7-98fe-eb9ecf810959",
   "metadata": {},
   "outputs": [
    {
     "data": {
      "text/plain": [
       "\"[15, 4, 1994, 'kermanshah', 'iran', [12, 7, 1988, 'Ehsan_Ahmadi', ['kermanshah', 'iran']]]\""
      ]
     },
     "execution_count": 97,
     "metadata": {},
     "output_type": "execute_result"
    }
   ],
   "source": [
    "new_list"
   ]
  },
  {
   "cell_type": "code",
   "execution_count": 98,
   "id": "f78a790b-4796-4c65-acdb-8f3de75c1617",
   "metadata": {},
   "outputs": [
    {
     "data": {
      "text/plain": [
       "10"
      ]
     },
     "execution_count": 98,
     "metadata": {},
     "output_type": "execute_result"
    }
   ],
   "source": [
    "my_variable= 10\n",
    "my_variable"
   ]
  },
  {
   "cell_type": "code",
   "execution_count": 99,
   "id": "635868cb-ce3a-42a3-8039-6bdc21ef574d",
   "metadata": {},
   "outputs": [
    {
     "data": {
      "text/plain": [
       "'dataroadmap'"
      ]
     },
     "execution_count": 99,
     "metadata": {},
     "output_type": "execute_result"
    }
   ],
   "source": [
    "my_variable_1= 'dataroadmap'\n",
    "my_variable_1"
   ]
  },
  {
   "cell_type": "code",
   "execution_count": 100,
   "id": "81797af3-3642-42f5-860e-75dfc2c7e32d",
   "metadata": {},
   "outputs": [
    {
     "data": {
      "text/plain": [
       "184064"
      ]
     },
     "execution_count": 100,
     "metadata": {},
     "output_type": "execute_result"
    }
   ],
   "source": [
    "my_var= 23+42_9**2\n",
    "my_var"
   ]
  },
  {
   "cell_type": "code",
   "execution_count": 101,
   "id": "681fc845-f3bc-4651-a2e2-e0256289385e",
   "metadata": {},
   "outputs": [
    {
     "data": {
      "text/plain": [
       "int"
      ]
     },
     "execution_count": 101,
     "metadata": {},
     "output_type": "execute_result"
    }
   ],
   "source": [
    "my_var1= 0\n",
    "type(my_var1)"
   ]
  },
  {
   "cell_type": "code",
   "execution_count": 102,
   "id": "49149fe3-aefa-4ea7-978c-520bc5275a20",
   "metadata": {},
   "outputs": [
    {
     "data": {
      "text/plain": [
       "float"
      ]
     },
     "execution_count": 102,
     "metadata": {},
     "output_type": "execute_result"
    }
   ],
   "source": [
    "my_var2= 3.12323\n",
    "type(my_var2)"
   ]
  },
  {
   "cell_type": "code",
   "execution_count": 103,
   "id": "515a8b22-c2f9-49c8-9221-f3097d0e5627",
   "metadata": {},
   "outputs": [
    {
     "data": {
      "text/plain": [
       "3"
      ]
     },
     "execution_count": 103,
     "metadata": {},
     "output_type": "execute_result"
    }
   ],
   "source": [
    "int(3.99)"
   ]
  },
  {
   "cell_type": "code",
   "execution_count": 104,
   "id": "8406d59e-c090-4c23-af54-ed8101d48723",
   "metadata": {},
   "outputs": [
    {
     "data": {
      "text/plain": [
       "5.5"
      ]
     },
     "execution_count": 104,
     "metadata": {},
     "output_type": "execute_result"
    }
   ],
   "source": [
    "11/2"
   ]
  },
  {
   "cell_type": "code",
   "execution_count": 105,
   "id": "eac6f5e5-78e7-437d-a449-724ed3c1d200",
   "metadata": {},
   "outputs": [
    {
     "data": {
      "text/plain": [
       "4"
      ]
     },
     "execution_count": 105,
     "metadata": {},
     "output_type": "execute_result"
    }
   ],
   "source": [
    "x=4\n",
    "x"
   ]
  },
  {
   "cell_type": "code",
   "execution_count": 106,
   "id": "3840a330-291d-4f8b-acb1-39609d3a4a41",
   "metadata": {},
   "outputs": [
    {
     "data": {
      "text/plain": [
       "2.0"
      ]
     },
     "execution_count": 106,
     "metadata": {},
     "output_type": "execute_result"
    }
   ],
   "source": [
    "x=x/2\n",
    "x"
   ]
  },
  {
   "cell_type": "code",
   "execution_count": 107,
   "id": "3b073f15-c7a3-4f74-b4e2-d54bd32809bd",
   "metadata": {},
   "outputs": [
    {
     "data": {
      "text/plain": [
       "True"
      ]
     },
     "execution_count": 107,
     "metadata": {},
     "output_type": "execute_result"
    }
   ],
   "source": [
    "string_1= 'Michael Jackson'\n",
    "string_2= \"Michael Jackson\"\n",
    "string_1 == string_2"
   ]
  },
  {
   "cell_type": "code",
   "execution_count": 108,
   "id": "15b37cf0-f641-4dcb-96a5-2cddb758a278",
   "metadata": {},
   "outputs": [
    {
     "data": {
      "text/plain": [
       "'1 2 3 4 5 6'"
      ]
     },
     "execution_count": 108,
     "metadata": {},
     "output_type": "execute_result"
    }
   ],
   "source": [
    "string_3= \"1 2 3 4 5 6\"\n",
    "string_3\n"
   ]
  },
  {
   "cell_type": "code",
   "execution_count": 109,
   "id": "cf2b4b40-7652-4e9a-86e1-d6db117e7168",
   "metadata": {},
   "outputs": [
    {
     "data": {
      "text/plain": [
       "'@#2_#]&*§%€'"
      ]
     },
     "execution_count": 109,
     "metadata": {},
     "output_type": "execute_result"
    }
   ],
   "source": [
    "string_4= '@#2_#]&*§%€'\n",
    "string_4"
   ]
  },
  {
   "cell_type": "code",
   "execution_count": 110,
   "id": "1db024c2-edf1-4d8c-9364-6acabe7a68fc",
   "metadata": {},
   "outputs": [
    {
     "data": {
      "text/plain": [
       "' '"
      ]
     },
     "execution_count": 110,
     "metadata": {},
     "output_type": "execute_result"
    }
   ],
   "source": [
    "string_1[7]"
   ]
  },
  {
   "cell_type": "code",
   "execution_count": 111,
   "id": "081132f5-373e-49f9-b563-4431d214fde3",
   "metadata": {},
   "outputs": [
    {
     "data": {
      "text/plain": [
       "'a'"
      ]
     },
     "execution_count": 111,
     "metadata": {},
     "output_type": "execute_result"
    }
   ],
   "source": [
    "string_1[9]"
   ]
  },
  {
   "cell_type": "code",
   "execution_count": 112,
   "id": "71f3a174-c566-42a1-946f-4a6d1c90bc80",
   "metadata": {},
   "outputs": [
    {
     "data": {
      "text/plain": [
       "'3'"
      ]
     },
     "execution_count": 112,
     "metadata": {},
     "output_type": "execute_result"
    }
   ],
   "source": [
    "string_3[4]"
   ]
  },
  {
   "cell_type": "code",
   "execution_count": 113,
   "id": "6d40a697-ae2b-45ed-9583-a90bf88f2de3",
   "metadata": {},
   "outputs": [
    {
     "data": {
      "text/plain": [
       "']'"
      ]
     },
     "execution_count": 113,
     "metadata": {},
     "output_type": "execute_result"
    }
   ],
   "source": [
    "string_4[5]"
   ]
  },
  {
   "cell_type": "code",
   "execution_count": 114,
   "id": "0a098eab-9859-4959-9d4f-1184b4c96e47",
   "metadata": {},
   "outputs": [
    {
     "data": {
      "text/plain": [
       "'§'"
      ]
     },
     "execution_count": 114,
     "metadata": {},
     "output_type": "execute_result"
    }
   ],
   "source": [
    "string_4[-3]"
   ]
  },
  {
   "cell_type": "code",
   "execution_count": 115,
   "id": "c997c356-450a-4e48-9532-fabf7a6f757b",
   "metadata": {},
   "outputs": [
    {
     "data": {
      "text/plain": [
       "'h'"
      ]
     },
     "execution_count": 115,
     "metadata": {},
     "output_type": "execute_result"
    }
   ],
   "source": [
    "string_1[-12]"
   ]
  },
  {
   "cell_type": "code",
   "execution_count": 116,
   "id": "56f1c276-28a7-4b1f-8c4a-b77028608b70",
   "metadata": {},
   "outputs": [
    {
     "data": {
      "text/plain": [
       "'M'"
      ]
     },
     "execution_count": 116,
     "metadata": {},
     "output_type": "execute_result"
    }
   ],
   "source": [
    "string_1[0]"
   ]
  },
  {
   "cell_type": "code",
   "execution_count": 117,
   "id": "19638dbf-6227-4844-880b-d971aad0eaef",
   "metadata": {},
   "outputs": [
    {
     "data": {
      "text/plain": [
       "'McalJcsn'"
      ]
     },
     "execution_count": 117,
     "metadata": {},
     "output_type": "execute_result"
    }
   ],
   "source": [
    "string_1[::2]"
   ]
  },
  {
   "cell_type": "code",
   "execution_count": 118,
   "id": "bfde799d-eac8-46e3-aa41-d55dd2875491",
   "metadata": {},
   "outputs": [
    {
     "data": {
      "text/plain": [
       "'calJc'"
      ]
     },
     "execution_count": 118,
     "metadata": {},
     "output_type": "execute_result"
    }
   ],
   "source": [
    "string_1[2:12:2]"
   ]
  },
  {
   "cell_type": "code",
   "execution_count": 119,
   "id": "ee4fa17e-cc3c-4ce4-ac92-b6d4f4e005ff",
   "metadata": {},
   "outputs": [
    {
     "data": {
      "text/plain": [
       "15"
      ]
     },
     "execution_count": 119,
     "metadata": {},
     "output_type": "execute_result"
    }
   ],
   "source": [
    "## How many character does the string? \n",
    "\n",
    "len('Michael Jackson')"
   ]
  },
  {
   "cell_type": "code",
   "execution_count": 120,
   "id": "de6c6b11-804c-4f6b-a214-3aa7daf2f6b2",
   "metadata": {},
   "outputs": [
    {
     "data": {
      "text/plain": [
       "11"
      ]
     },
     "execution_count": 120,
     "metadata": {},
     "output_type": "execute_result"
    }
   ],
   "source": [
    "len(string_4)"
   ]
  },
  {
   "cell_type": "code",
   "execution_count": 38,
   "id": "385118ca-e85e-4702-b604-3c55834da88d",
   "metadata": {},
   "outputs": [
    {
     "data": {
      "text/plain": [
       "'Michael Jackson is the best.'"
      ]
     },
     "execution_count": 38,
     "metadata": {},
     "output_type": "execute_result"
    }
   ],
   "source": [
    "## How to add a new string to a string?\n",
    "\n",
    "string_1= 'Michael Jackson'\n",
    "statement = string_1 + ' is the best.'\n",
    "statement"
   ]
  },
  {
   "cell_type": "code",
   "execution_count": 100,
   "id": "6bd6b200-6be2-4a1f-9352-99779e4cf425",
   "metadata": {},
   "outputs": [
    {
     "name": "stdout",
     "output_type": "stream",
     "text": [
      "3.13.7 (v3.13.7:bcee1c32211, Aug 14 2025, 19:10:51) [Clang 16.0.0 (clang-1600.0.26.6)]\n"
     ]
    }
   ],
   "source": [
    "# Notebook1_Week_3\n",
    "\n",
    "## Checking the Python Version\n",
    "\n",
    "import sys\n",
    "print(sys.version)\n"
   ]
  },
  {
   "cell_type": "code",
   "execution_count": 101,
   "id": "9f43eb4a-eff9-4670-8314-1e00315b7ea9",
   "metadata": {},
   "outputs": [
    {
     "name": "stdout",
     "output_type": "stream",
     "text": [
      "Hello, Python!\n"
     ]
    }
   ],
   "source": [
    "print('Hello, Python!')"
   ]
  },
  {
   "cell_type": "code",
   "execution_count": 102,
   "id": "3eed0c1b-2dc5-465d-a1e8-1b146acdab6f",
   "metadata": {},
   "outputs": [
    {
     "name": "stdout",
     "output_type": "stream",
     "text": [
      "Hi!\n"
     ]
    }
   ],
   "source": [
    "print('Hi!')"
   ]
  },
  {
   "cell_type": "code",
   "execution_count": 103,
   "id": "d8e5f6dd-a191-4bee-b666-045820de2e91",
   "metadata": {},
   "outputs": [
    {
     "data": {
      "text/plain": [
       "float"
      ]
     },
     "execution_count": 103,
     "metadata": {},
     "output_type": "execute_result"
    }
   ],
   "source": [
    "num_1=216.48\n",
    "type(num_1)"
   ]
  },
  {
   "cell_type": "code",
   "execution_count": 104,
   "id": "50e2adec-5aa5-4f65-96b7-16c7f8ea2321",
   "metadata": {},
   "outputs": [
    {
     "data": {
      "text/plain": [
       "int"
      ]
     },
     "execution_count": 104,
     "metadata": {},
     "output_type": "execute_result"
    }
   ],
   "source": [
    "num_2= 842\n",
    "type(num_2)"
   ]
  },
  {
   "cell_type": "code",
   "execution_count": 105,
   "id": "bc74be31-c095-497b-b3d7-2367b25c17ec",
   "metadata": {},
   "outputs": [
    {
     "data": {
      "text/plain": [
       "str"
      ]
     },
     "execution_count": 105,
     "metadata": {},
     "output_type": "execute_result"
    }
   ],
   "source": [
    "string_22= 'kermanshah iran'\n",
    "type(string_22)"
   ]
  },
  {
   "cell_type": "code",
   "execution_count": 106,
   "id": "5c0905dd-fcb3-4d0f-a48f-7cb6f285ef7a",
   "metadata": {},
   "outputs": [
    {
     "data": {
      "text/plain": [
       "int"
      ]
     },
     "execution_count": 106,
     "metadata": {},
     "output_type": "execute_result"
    }
   ],
   "source": [
    "## Converting integers to floats\n",
    "\n",
    "x = 55\n",
    "type(x)"
   ]
  },
  {
   "cell_type": "code",
   "execution_count": 107,
   "id": "8d5d2fab-fab6-43a2-8882-58ce5ac1c977",
   "metadata": {},
   "outputs": [
    {
     "data": {
      "text/plain": [
       "float"
      ]
     },
     "execution_count": 107,
     "metadata": {},
     "output_type": "execute_result"
    }
   ],
   "source": [
    "y = float(x)\n",
    "type(y)"
   ]
  },
  {
   "cell_type": "code",
   "execution_count": 108,
   "id": "f2e0d7a6-8958-45de-a9af-51cfa36ebdc2",
   "metadata": {},
   "outputs": [
    {
     "data": {
      "text/plain": [
       "55.0"
      ]
     },
     "execution_count": 108,
     "metadata": {},
     "output_type": "execute_result"
    }
   ],
   "source": [
    "y"
   ]
  },
  {
   "cell_type": "code",
   "execution_count": 109,
   "id": "f6be9d5e-97ea-485f-8fbd-bd762f7e789b",
   "metadata": {},
   "outputs": [
    {
     "data": {
      "text/plain": [
       "1"
      ]
     },
     "execution_count": 109,
     "metadata": {},
     "output_type": "execute_result"
    }
   ],
   "source": [
    "int(1.1)"
   ]
  },
  {
   "cell_type": "code",
   "execution_count": 110,
   "id": "1746bd67-fe96-404b-940f-d8e31c95723b",
   "metadata": {},
   "outputs": [
    {
     "data": {
      "text/plain": [
       "1"
      ]
     },
     "execution_count": 110,
     "metadata": {},
     "output_type": "execute_result"
    }
   ],
   "source": [
    "## Converting from strings to integers or floats\n",
    "\n",
    "int('1')"
   ]
  },
  {
   "cell_type": "code",
   "execution_count": null,
   "id": "5d085b7c-a26c-41af-8089-4e14a2f17cf8",
   "metadata": {},
   "outputs": [],
   "source": [
    "## A string cannot Convert into an integer \n",
    "\n",
    "# int('1 or 2 people')"
   ]
  },
  {
   "cell_type": "code",
   "execution_count": 112,
   "id": "9be84c79-68f1-4738-8b99-3d36566cf3d8",
   "metadata": {},
   "outputs": [
    {
     "data": {
      "text/plain": [
       "1.2"
      ]
     },
     "execution_count": 112,
     "metadata": {},
     "output_type": "execute_result"
    }
   ],
   "source": [
    "## Convert the string \"1.2\" into a float\n",
    "\n",
    "float('1.2')"
   ]
  },
  {
   "cell_type": "code",
   "execution_count": 113,
   "id": "3959e310-7cfc-4394-ad88-fe8e5ac274f1",
   "metadata": {},
   "outputs": [
    {
     "data": {
      "text/plain": [
       "'1'"
      ]
     },
     "execution_count": 113,
     "metadata": {},
     "output_type": "execute_result"
    }
   ],
   "source": [
    "## Converting numbers to strings\n",
    "\n",
    "str(1)"
   ]
  },
  {
   "cell_type": "code",
   "execution_count": 114,
   "id": "5acfb2ab-990d-4b29-a891-4d4f9e40ce32",
   "metadata": {},
   "outputs": [
    {
     "data": {
      "text/plain": [
       "'1.43'"
      ]
     },
     "execution_count": 114,
     "metadata": {},
     "output_type": "execute_result"
    }
   ],
   "source": [
    "str(1.43)"
   ]
  },
  {
   "cell_type": "code",
   "execution_count": 115,
   "id": "2bcd90e4-3ffe-456f-9e99-c48ec929df37",
   "metadata": {},
   "outputs": [
    {
     "data": {
      "text/plain": [
       "True"
      ]
     },
     "execution_count": 115,
     "metadata": {},
     "output_type": "execute_result"
    }
   ],
   "source": [
    "## Boolean\n",
    "\n",
    "True"
   ]
  },
  {
   "cell_type": "code",
   "execution_count": 116,
   "id": "dc79f5ac-34a7-4a83-9b62-c7f00d172309",
   "metadata": {},
   "outputs": [
    {
     "data": {
      "text/plain": [
       "False"
      ]
     },
     "execution_count": 116,
     "metadata": {},
     "output_type": "execute_result"
    }
   ],
   "source": [
    "False"
   ]
  },
  {
   "cell_type": "code",
   "execution_count": 117,
   "id": "63b104ca-fbec-447d-bed6-67eaa270090b",
   "metadata": {},
   "outputs": [
    {
     "data": {
      "text/plain": [
       "bool"
      ]
     },
     "execution_count": 117,
     "metadata": {},
     "output_type": "execute_result"
    }
   ],
   "source": [
    "type(True)"
   ]
  },
  {
   "cell_type": "code",
   "execution_count": 118,
   "id": "dd392028-14bd-4e78-ac98-55adde3bc23c",
   "metadata": {},
   "outputs": [
    {
     "data": {
      "text/plain": [
       "1"
      ]
     },
     "execution_count": 118,
     "metadata": {},
     "output_type": "execute_result"
    }
   ],
   "source": [
    "int(True)\n"
   ]
  },
  {
   "cell_type": "code",
   "execution_count": 119,
   "id": "8ca646cb-0246-4fe8-a678-c9cb575001e7",
   "metadata": {},
   "outputs": [
    {
     "data": {
      "text/plain": [
       "0"
      ]
     },
     "execution_count": 119,
     "metadata": {},
     "output_type": "execute_result"
    }
   ],
   "source": [
    "int(False)"
   ]
  },
  {
   "cell_type": "code",
   "execution_count": 120,
   "id": "79938f35-15d2-4c80-ad3e-15e85025e7a9",
   "metadata": {},
   "outputs": [
    {
     "data": {
      "text/plain": [
       "True"
      ]
     },
     "execution_count": 120,
     "metadata": {},
     "output_type": "execute_result"
    }
   ],
   "source": [
    "bool(1)"
   ]
  },
  {
   "cell_type": "code",
   "execution_count": 121,
   "id": "87d67e12-ca58-4a5b-bbd0-7aa62f371e47",
   "metadata": {},
   "outputs": [
    {
     "data": {
      "text/plain": [
       "False"
      ]
     },
     "execution_count": 121,
     "metadata": {},
     "output_type": "execute_result"
    }
   ],
   "source": [
    "bool(0)"
   ]
  },
  {
   "cell_type": "code",
   "execution_count": 122,
   "id": "75b5df82-9258-4a02-9baa-63b57f5fab28",
   "metadata": {},
   "outputs": [
    {
     "data": {
      "text/plain": [
       "1.0"
      ]
     },
     "execution_count": 122,
     "metadata": {},
     "output_type": "execute_result"
    }
   ],
   "source": [
    "float(True)"
   ]
  },
  {
   "cell_type": "code",
   "execution_count": 123,
   "id": "20ec88e4-022e-40d7-8eb4-c9c9d65c6065",
   "metadata": {},
   "outputs": [
    {
     "data": {
      "text/plain": [
       "0.0"
      ]
     },
     "execution_count": 123,
     "metadata": {},
     "output_type": "execute_result"
    }
   ],
   "source": [
    "float(False)"
   ]
  },
  {
   "cell_type": "code",
   "execution_count": 124,
   "id": "f7676585-269c-4ffc-ae2d-42f6b6734901",
   "metadata": {},
   "outputs": [
    {
     "data": {
      "text/plain": [
       "160"
      ]
     },
     "execution_count": 124,
     "metadata": {},
     "output_type": "execute_result"
    }
   ],
   "source": [
    "## Expression\n",
    "\n",
    "43 + 60 + 16 + 41"
   ]
  },
  {
   "cell_type": "code",
   "execution_count": 125,
   "id": "485270ac-ebc4-41cf-b2b6-13baf7732944",
   "metadata": {},
   "outputs": [
    {
     "data": {
      "text/plain": [
       "-10"
      ]
     },
     "execution_count": 125,
     "metadata": {},
     "output_type": "execute_result"
    }
   ],
   "source": [
    "50 - 60"
   ]
  },
  {
   "cell_type": "code",
   "execution_count": 126,
   "id": "9935245c-de2c-46a4-ae16-c058c5f71df2",
   "metadata": {},
   "outputs": [
    {
     "data": {
      "text/plain": [
       "25"
      ]
     },
     "execution_count": 126,
     "metadata": {},
     "output_type": "execute_result"
    }
   ],
   "source": [
    "5*5"
   ]
  },
  {
   "cell_type": "code",
   "execution_count": 127,
   "id": "59fbe6bb-840c-46ae-a0be-e5e901f2fe81",
   "metadata": {},
   "outputs": [
    {
     "data": {
      "text/plain": [
       "4.166666666666667"
      ]
     },
     "execution_count": 127,
     "metadata": {},
     "output_type": "execute_result"
    }
   ],
   "source": [
    "25/6"
   ]
  },
  {
   "cell_type": "code",
   "execution_count": 128,
   "id": "51879bec-2401-40ac-9a2b-055bc8bba7f6",
   "metadata": {},
   "outputs": [
    {
     "data": {
      "text/plain": [
       "1"
      ]
     },
     "execution_count": 128,
     "metadata": {},
     "output_type": "execute_result"
    }
   ],
   "source": [
    "25%3"
   ]
  },
  {
   "cell_type": "code",
   "execution_count": 129,
   "id": "a8d3b517-50d8-434d-8372-3a77875331ad",
   "metadata": {},
   "outputs": [
    {
     "data": {
      "text/plain": [
       "5"
      ]
     },
     "execution_count": 129,
     "metadata": {},
     "output_type": "execute_result"
    }
   ],
   "source": [
    "## Integer division operation expression\n",
    "\n",
    "25//5"
   ]
  },
  {
   "cell_type": "code",
   "execution_count": 130,
   "id": "d447dd3d-bcc1-460d-9768-231715e5f688",
   "metadata": {},
   "outputs": [
    {
     "data": {
      "text/plain": [
       "4"
      ]
     },
     "execution_count": 130,
     "metadata": {},
     "output_type": "execute_result"
    }
   ],
   "source": [
    "25//6"
   ]
  },
  {
   "cell_type": "code",
   "execution_count": 131,
   "id": "dd50c8ed-21e9-402a-ba0b-1fe918c08b86",
   "metadata": {},
   "outputs": [
    {
     "data": {
      "text/plain": [
       "150"
      ]
     },
     "execution_count": 131,
     "metadata": {},
     "output_type": "execute_result"
    }
   ],
   "source": [
    "30 + 2 * 60"
   ]
  },
  {
   "cell_type": "code",
   "execution_count": 132,
   "id": "541005a4-75e8-4d61-9a13-03ce4bb25ffb",
   "metadata": {},
   "outputs": [
    {
     "data": {
      "text/plain": [
       "1920"
      ]
     },
     "execution_count": 132,
     "metadata": {},
     "output_type": "execute_result"
    }
   ],
   "source": [
    "(30 + 2) * 60"
   ]
  },
  {
   "cell_type": "code",
   "execution_count": 133,
   "id": "e534ee35-34ef-4c05-a5c2-c296bd032a3f",
   "metadata": {},
   "outputs": [
    {
     "data": {
      "text/plain": [
       "160"
      ]
     },
     "execution_count": 133,
     "metadata": {},
     "output_type": "execute_result"
    }
   ],
   "source": [
    "## Variable\n",
    "# Store value into variable\n",
    "\n",
    "x = 43 + 60 + 16 + 41\n",
    "x"
   ]
  },
  {
   "cell_type": "code",
   "execution_count": 134,
   "id": "c2546baa-fef8-4e0b-b05d-7618eecdeb4a",
   "metadata": {},
   "outputs": [
    {
     "data": {
      "text/plain": [
       "4.0"
      ]
     },
     "execution_count": 134,
     "metadata": {},
     "output_type": "execute_result"
    }
   ],
   "source": [
    "y = x/40\n",
    "y"
   ]
  },
  {
   "cell_type": "code",
   "execution_count": 135,
   "id": "0db3e0c8-1455-4672-a254-51277d0d8b3c",
   "metadata": {},
   "outputs": [
    {
     "data": {
      "text/plain": [
       "2.6666666666666665"
      ]
     },
     "execution_count": 135,
     "metadata": {},
     "output_type": "execute_result"
    }
   ],
   "source": [
    "## Overwrite variable with new value\n",
    "\n",
    "x = x/60\n",
    "x"
   ]
  },
  {
   "cell_type": "code",
   "execution_count": 136,
   "id": "42ed17be-9cd0-439d-a9b0-c1118fcf8089",
   "metadata": {},
   "outputs": [
    {
     "data": {
      "text/plain": [
       "142"
      ]
     },
     "execution_count": 136,
     "metadata": {},
     "output_type": "execute_result"
    }
   ],
   "source": [
    "## Name the variables meaningfully\n",
    "\n",
    "total_min = 43 + 42 + 57 # Total length of albums in minutes\n",
    "total_min"
   ]
  },
  {
   "cell_type": "code",
   "execution_count": 137,
   "id": "be56e079-96f3-4a89-93d6-12dd43c315b3",
   "metadata": {},
   "outputs": [
    {
     "data": {
      "text/plain": [
       "2.3666666666666667"
      ]
     },
     "execution_count": 137,
     "metadata": {},
     "output_type": "execute_result"
    }
   ],
   "source": [
    "## Name the variables meaningfully\n",
    "\n",
    "total_hours = total_min / 60 # Total length of albums in hours \n",
    "total_hours"
   ]
  },
  {
   "cell_type": "code",
   "execution_count": 138,
   "id": "90dd5baf-5ec5-4cc5-ba5c-a084579fe7a3",
   "metadata": {},
   "outputs": [
    {
     "data": {
      "text/plain": [
       "2.3666666666666667"
      ]
     },
     "execution_count": 138,
     "metadata": {},
     "output_type": "execute_result"
    }
   ],
   "source": [
    "## Complicate expression\n",
    "\n",
    "total_hours = (43 + 42 + 57) / 60  # Total hours in a single expression\n",
    "total_hours"
   ]
  },
  {
   "cell_type": "code",
   "execution_count": 139,
   "id": "e180f068-9879-4502-a98b-675a48638e87",
   "metadata": {},
   "outputs": [
    {
     "name": "stdout",
     "output_type": "stream",
     "text": [
      "my age is:26, and my name is:Tala\n"
     ]
    }
   ],
   "source": [
    "\n",
    "\n",
    "## Monogram1-week3-notebook2\n",
    "\n",
    "num=26\n",
    "name= 'Tala'\n",
    "\n",
    "print('my age is:{}, and my name is:{}'. format(num,name))\n",
    "  "
   ]
  },
  {
   "cell_type": "code",
   "execution_count": 140,
   "id": "ddf1b725-f135-4539-9077-fded3d2766ba",
   "metadata": {},
   "outputs": [
    {
     "name": "stdout",
     "output_type": "stream",
     "text": [
      "my age is:26, and my name is:Tala\n"
     ]
    }
   ],
   "source": [
    "num_1=26\n",
    "name_1= 'Tala'\n",
    "\n",
    "print('my age is:{one}, and my name is:{two}'. format(one=num,two=name))\n",
    "  "
   ]
  },
  {
   "cell_type": "code",
   "execution_count": 141,
   "id": "462aeccc-3c23-4e7d-a928-16730f167322",
   "metadata": {},
   "outputs": [
    {
     "data": {
      "text/plain": [
       "[2, '32', 'Iran', ['Home', 'Parents', 22]]"
      ]
     },
     "execution_count": 141,
     "metadata": {},
     "output_type": "execute_result"
    }
   ],
   "source": [
    "my_list= [2, '32', \"Iran\",['Home', 'Parents', 22]]\n",
    "my_list"
   ]
  },
  {
   "cell_type": "code",
   "execution_count": 142,
   "id": "fedea9b8-0a70-4833-bbc5-9b565daad7d2",
   "metadata": {},
   "outputs": [
    {
     "data": {
      "text/plain": [
       "[2, '32', 'Iran', ['Home', 'Parents', 22], 'sis']"
      ]
     },
     "execution_count": 142,
     "metadata": {},
     "output_type": "execute_result"
    }
   ],
   "source": [
    "my_list.append('sis')\n",
    "my_list"
   ]
  },
  {
   "cell_type": "code",
   "execution_count": 143,
   "id": "162ce87b-af4c-405a-9443-cfdbc5bee1bc",
   "metadata": {},
   "outputs": [
    {
     "data": {
      "text/plain": [
       "['up', '32', 'Iran', ['Home', 'Parents', 22], 'sis']"
      ]
     },
     "execution_count": 143,
     "metadata": {},
     "output_type": "execute_result"
    }
   ],
   "source": [
    "my_list[0]='up'\n",
    "my_list"
   ]
  },
  {
   "cell_type": "code",
   "execution_count": 144,
   "id": "29367477-2e40-49ec-b96c-3e373946c894",
   "metadata": {},
   "outputs": [
    {
     "data": {
      "text/plain": [
       "{'one': 'Country', 'two': 'Nationality', 'three': 'Birth_year'}"
      ]
     },
     "execution_count": 144,
     "metadata": {},
     "output_type": "execute_result"
    }
   ],
   "source": [
    "d = {'one':'Country', 'two': 'Nationality', 'three': 'Birth_year'}\n",
    "d\n"
   ]
  },
  {
   "cell_type": "code",
   "execution_count": 145,
   "id": "739c1f31-d78d-443f-9994-502fc37f0ecd",
   "metadata": {},
   "outputs": [
    {
     "data": {
      "text/plain": [
       "'Nationality'"
      ]
     },
     "execution_count": 145,
     "metadata": {},
     "output_type": "execute_result"
    }
   ],
   "source": [
    "d['two']"
   ]
  },
  {
   "cell_type": "code",
   "execution_count": 146,
   "id": "eb56d090-43e2-44f5-9ac5-4b8874678efc",
   "metadata": {},
   "outputs": [
    {
     "data": {
      "text/plain": [
       "(6, 9, 'parnian')"
      ]
     },
     "execution_count": 146,
     "metadata": {},
     "output_type": "execute_result"
    }
   ],
   "source": [
    "t = (6, 9, 'parnian')\n",
    "t"
   ]
  },
  {
   "cell_type": "code",
   "execution_count": 147,
   "id": "0a8d2e0c-f224-40e1-bedd-b3aca3540100",
   "metadata": {},
   "outputs": [
    {
     "data": {
      "text/plain": [
       "'parnian'"
      ]
     },
     "execution_count": 147,
     "metadata": {},
     "output_type": "execute_result"
    }
   ],
   "source": [
    "t[2]"
   ]
  },
  {
   "cell_type": "code",
   "execution_count": null,
   "id": "404f8aea-5b65-458e-b26e-8c96059d280d",
   "metadata": {},
   "outputs": [],
   "source": [
    "#'tuple' object does not support item assignment\n",
    "\n",
    "t[2]='Feli' ## Error\n"
   ]
  },
  {
   "cell_type": "code",
   "execution_count": 149,
   "id": "e5d9e3ac-c977-40ca-92ae-4826f0502f67",
   "metadata": {},
   "outputs": [
    {
     "data": {
      "text/plain": [
       "{0, 1, 2, 3, 4, 5, 6, 7, 45}"
      ]
     },
     "execution_count": 149,
     "metadata": {},
     "output_type": "execute_result"
    }
   ],
   "source": [
    "s = {1,2,2,2,2,3,4,3,4,2,1,5,7,0,7,45,6,2,4}\n",
    "s"
   ]
  },
  {
   "cell_type": "code",
   "execution_count": 150,
   "id": "fe1ba2d8-9fe3-4ca6-bc63-f5ba2251def6",
   "metadata": {},
   "outputs": [
    {
     "data": {
      "text/plain": [
       "False"
      ]
     },
     "execution_count": 150,
     "metadata": {},
     "output_type": "execute_result"
    }
   ],
   "source": [
    "1 > 2"
   ]
  },
  {
   "cell_type": "code",
   "execution_count": 151,
   "id": "3e55e4b1-3f4e-4373-9424-5e35dbe46338",
   "metadata": {},
   "outputs": [
    {
     "data": {
      "text/plain": [
       "True"
      ]
     },
     "execution_count": 151,
     "metadata": {},
     "output_type": "execute_result"
    }
   ],
   "source": [
    "8789 < 64748"
   ]
  },
  {
   "cell_type": "code",
   "execution_count": 152,
   "id": "c7d03e76-ba30-4d8a-a1f3-0693ef21b248",
   "metadata": {},
   "outputs": [
    {
     "data": {
      "text/plain": [
       "True"
      ]
     },
     "execution_count": 152,
     "metadata": {},
     "output_type": "execute_result"
    }
   ],
   "source": [
    "345 <= 432"
   ]
  },
  {
   "cell_type": "code",
   "execution_count": 153,
   "id": "fae87b32-d453-42d4-af75-e09ea6892c63",
   "metadata": {},
   "outputs": [
    {
     "data": {
      "text/plain": [
       "True"
      ]
     },
     "execution_count": 153,
     "metadata": {},
     "output_type": "execute_result"
    }
   ],
   "source": [
    "765 >= 654"
   ]
  },
  {
   "cell_type": "code",
   "execution_count": 154,
   "id": "505fd14c-62f7-4b64-b4cd-b671b814f026",
   "metadata": {},
   "outputs": [
    {
     "data": {
      "text/plain": [
       "True"
      ]
     },
     "execution_count": 154,
     "metadata": {},
     "output_type": "execute_result"
    }
   ],
   "source": [
    "233 == 233"
   ]
  },
  {
   "cell_type": "code",
   "execution_count": 155,
   "id": "e5b067c9-059e-48df-bfc7-f7efd7357346",
   "metadata": {},
   "outputs": [
    {
     "data": {
      "text/plain": [
       "False"
      ]
     },
     "execution_count": 155,
     "metadata": {},
     "output_type": "execute_result"
    }
   ],
   "source": [
    "'sami'== 'samko'"
   ]
  },
  {
   "cell_type": "code",
   "execution_count": 156,
   "id": "4096d701-5e09-4359-ac80-f9af1f85ddae",
   "metadata": {},
   "outputs": [
    {
     "data": {
      "text/plain": [
       "True"
      ]
     },
     "execution_count": 156,
     "metadata": {},
     "output_type": "execute_result"
    }
   ],
   "source": [
    "(34 < 45) and (76 > 45)"
   ]
  },
  {
   "cell_type": "code",
   "execution_count": 157,
   "id": "58062e36-f462-4b0f-b14f-99d56cfb40bd",
   "metadata": {},
   "outputs": [
    {
     "data": {
      "text/plain": [
       "True"
      ]
     },
     "execution_count": 157,
     "metadata": {},
     "output_type": "execute_result"
    }
   ],
   "source": [
    "(23 < 12) or (54 > 32)"
   ]
  },
  {
   "cell_type": "code",
   "execution_count": 158,
   "id": "9c0d2435-0716-4989-893e-7e1b6ea299f3",
   "metadata": {},
   "outputs": [
    {
     "data": {
      "text/plain": [
       "True"
      ]
     },
     "execution_count": 158,
     "metadata": {},
     "output_type": "execute_result"
    }
   ],
   "source": [
    "(1 == 5) or (32 == 32) or ('tala'=='tahereh')"
   ]
  },
  {
   "cell_type": "code",
   "execution_count": 159,
   "id": "7bbc3cb5-b15e-4682-8295-9c11b0158f92",
   "metadata": {},
   "outputs": [
    {
     "data": {
      "text/plain": [
       "False"
      ]
     },
     "execution_count": 159,
     "metadata": {},
     "output_type": "execute_result"
    }
   ],
   "source": [
    "'Tala' == 'tala'"
   ]
  },
  {
   "cell_type": "code",
   "execution_count": 161,
   "id": "2501a96b-4734-425d-93cb-d972ad841390",
   "metadata": {},
   "outputs": [
    {
     "name": "stdout",
     "output_type": "stream",
     "text": [
      "yohoo\n"
     ]
    }
   ],
   "source": [
    "if 45 > 32:\n",
    "    print('yohoo')\n"
   ]
  },
  {
   "cell_type": "code",
   "execution_count": 162,
   "id": "d9cd751a-69a4-47ff-a9a8-fba86ca21fb4",
   "metadata": {},
   "outputs": [
    {
     "name": "stdout",
     "output_type": "stream",
     "text": [
      "nope!\n"
     ]
    }
   ],
   "source": [
    "if 'Tala' == 'tala':\n",
    "    print('yesss!')\n",
    "else:\n",
    "    print('nope!')"
   ]
  },
  {
   "cell_type": "code",
   "execution_count": 163,
   "id": "61125374-bd7f-4e7a-890b-ea576d4a32a6",
   "metadata": {},
   "outputs": [
    {
     "name": "stdout",
     "output_type": "stream",
     "text": [
      "Third\n"
     ]
    }
   ],
   "source": [
    "if 7656 > 7656:\n",
    "    print('First')\n",
    "elif 'tala' == 'Tala':\n",
    "    print('Second')\n",
    "elif 'Ehsan' == 'Ehsan':\n",
    "    print('Third')\n",
    "else: print('Nothing')\n"
   ]
  },
  {
   "cell_type": "code",
   "execution_count": 164,
   "id": "2ddd006c-bb56-432b-b3b0-8920a15c68fe",
   "metadata": {},
   "outputs": [
    {
     "name": "stdout",
     "output_type": "stream",
     "text": [
      "Nothing\n"
     ]
    }
   ],
   "source": [
    "if 7656 > 7656:\n",
    "    print('First')\n",
    "elif'tala' == 'Tala':\n",
    "    print('Second')\n",
    "elif 'Ehsan' == 'ehsan':\n",
    "    print('Third')\n",
    "else: print('Nothing')"
   ]
  },
  {
   "cell_type": "code",
   "execution_count": 165,
   "id": "33a806f5-63f9-4f6b-a314-1086cb50c46c",
   "metadata": {},
   "outputs": [
    {
     "name": "stdout",
     "output_type": "stream",
     "text": [
      "1\n",
      "3\n",
      "5\n",
      "7\n"
     ]
    }
   ],
   "source": [
    "## Loops\n",
    "\n",
    "#for Loops\n",
    "\n",
    "seq = [1,3,5,7]\n",
    "for item in(seq):\n",
    "    print(item)\n"
   ]
  },
  {
   "cell_type": "code",
   "execution_count": 166,
   "id": "7eae24c6-7597-47c4-904d-5ff4c7a2ad50",
   "metadata": {},
   "outputs": [
    {
     "name": "stdout",
     "output_type": "stream",
     "text": [
      "YoHOO\n",
      "YoHOO\n",
      "YoHOO\n",
      "YoHOO\n"
     ]
    }
   ],
   "source": [
    "for item in(seq):\n",
    "    print('YoHOO')\n"
   ]
  },
  {
   "cell_type": "code",
   "execution_count": 167,
   "id": "166087f4-e040-44a3-bc3f-0bd6bc490fb3",
   "metadata": {},
   "outputs": [
    {
     "name": "stdout",
     "output_type": "stream",
     "text": [
      "1\n",
      "9\n",
      "25\n",
      "49\n"
     ]
    }
   ],
   "source": [
    "for jelly in(seq):\n",
    "    print(jelly**2)"
   ]
  },
  {
   "cell_type": "code",
   "execution_count": 206,
   "id": "5c29d8c7-5ed6-46d5-a044-3a12b605eb9f",
   "metadata": {
    "scrolled": true
   },
   "outputs": [
    {
     "name": "stdout",
     "output_type": "stream",
     "text": [
      "n is:8\n",
      "n is:9\n",
      "n is:10\n",
      "n is:11\n"
     ]
    }
   ],
   "source": [
    "#' while Loops\n",
    "\n",
    "n = 8\n",
    "while n < 12:\n",
    "    print('n is:{}'.format(n))\n",
    "    n = n + 1\n",
    "    "
   ]
  },
  {
   "cell_type": "code",
   "execution_count": 172,
   "id": "84f00663-884e-43c6-a539-bafc7a02dab4",
   "metadata": {
    "scrolled": true
   },
   "outputs": [
    {
     "name": "stdout",
     "output_type": "stream",
     "text": [
      "n can be:6\n",
      "n can be:7\n"
     ]
    }
   ],
   "source": [
    "n = 6\n",
    "while n < 8:\n",
    "    print('n can be:{}'.format(n))\n",
    "    n = n + 1\n",
    "    "
   ]
  },
  {
   "cell_type": "code",
   "execution_count": 205,
   "id": "99468da5-af2c-4213-8310-4a0be1e243d2",
   "metadata": {},
   "outputs": [
    {
     "data": {
      "text/plain": [
       "range"
      ]
     },
     "execution_count": 205,
     "metadata": {},
     "output_type": "execute_result"
    }
   ],
   "source": [
    "## range with one argument(5)\n",
    "\n",
    "a = range(5)\n",
    "type(a)\n"
   ]
  },
  {
   "cell_type": "code",
   "execution_count": 197,
   "id": "570e99ad-2f0b-4d1d-9509-f47bc1730a17",
   "metadata": {},
   "outputs": [
    {
     "name": "stdout",
     "output_type": "stream",
     "text": [
      "0\n",
      "1\n",
      "2\n",
      "3\n",
      "4\n"
     ]
    }
   ],
   "source": [
    "for i in range(5):\n",
    "    print(i)\n",
    "\n"
   ]
  },
  {
   "cell_type": "code",
   "execution_count": 198,
   "id": "33b907df-d704-4eab-abb6-0911421e09f5",
   "metadata": {},
   "outputs": [
    {
     "data": {
      "text/plain": [
       "[0, 1, 2, 3, 4]"
      ]
     },
     "execution_count": 198,
     "metadata": {},
     "output_type": "execute_result"
    }
   ],
   "source": [
    "list(a)"
   ]
  },
  {
   "cell_type": "code",
   "execution_count": 201,
   "id": "1e2b02ef-3acc-4525-8d20-9de51c8b5ccc",
   "metadata": {},
   "outputs": [
    {
     "data": {
      "text/plain": [
       "[6, 7, 8, 9, 10, 11, 12, 13, 14, 15]"
      ]
     },
     "execution_count": 201,
     "metadata": {},
     "output_type": "execute_result"
    }
   ],
   "source": [
    "## range with 2 arguments(6 and 16)\n",
    "\n",
    "b = range(6,16)\n",
    "list(b)"
   ]
  },
  {
   "cell_type": "code",
   "execution_count": 203,
   "id": "9e3b1f85-533b-4484-a813-8e26be5d0817",
   "metadata": {},
   "outputs": [
    {
     "data": {
      "text/plain": [
       "[6, 8, 10, 12, 14]"
      ]
     },
     "execution_count": 203,
     "metadata": {},
     "output_type": "execute_result"
    }
   ],
   "source": [
    "## range with 2 arguments(6 , 16 and 2)\n",
    "# start with 6 until 16 (16 is excluded),third arguments tells with 2 steps.\n",
    "\n",
    "c = range(6,16,2)\n",
    "list(c)"
   ]
  },
  {
   "cell_type": "code",
   "execution_count": 204,
   "id": "5d90d6ec-5279-47d9-a196-6fdd6128a36b",
   "metadata": {},
   "outputs": [
    {
     "data": {
      "text/plain": [
       "[6, 9, 12, 15]"
      ]
     },
     "execution_count": 204,
     "metadata": {},
     "output_type": "execute_result"
    }
   ],
   "source": [
    "c = range(6,16,3)\n",
    "list(c)"
   ]
  },
  {
   "cell_type": "code",
   "execution_count": 208,
   "id": "ba76d346-2661-4a4e-bc2a-559994a465b8",
   "metadata": {},
   "outputs": [
    {
     "data": {
      "text/plain": [
       "[1, 2, 3, 4, 5]"
      ]
     },
     "execution_count": 208,
     "metadata": {},
     "output_type": "execute_result"
    }
   ],
   "source": [
    "x =[1,2,3,4]\n",
    "x.append(5)\n",
    "x"
   ]
  },
  {
   "cell_type": "code",
   "execution_count": 211,
   "id": "79a48cf1-29c9-4319-81e3-ef5f1f77159c",
   "metadata": {},
   "outputs": [
    {
     "name": "stdout",
     "output_type": "stream",
     "text": [
      "[1, 4, 9, 16, 25]\n"
     ]
    }
   ],
   "source": [
    "## list.append() for loop\n",
    "out= []\n",
    "for item in x:\n",
    "    out.append(item**2)\n",
    "print(out)"
   ]
  },
  {
   "cell_type": "code",
   "execution_count": 216,
   "id": "e65ef7aa-5587-44cc-9cdd-fa62879b3534",
   "metadata": {},
   "outputs": [
    {
     "name": "stdout",
     "output_type": "stream",
     "text": [
      "dataroadmap\n"
     ]
    }
   ],
   "source": [
    "## Python functions\n",
    "\n",
    "def my_func():\n",
    "    \"\"\"\n",
    "    print\n",
    "    \"\"\"\n",
    "    print('dataroadmap')\n",
    "my_func()"
   ]
  },
  {
   "cell_type": "code",
   "execution_count": 229,
   "id": "6864feb1-cdf1-4f95-b592-0f296277a0bd",
   "metadata": {},
   "outputs": [
    {
     "name": "stdout",
     "output_type": "stream",
     "text": [
      "8\n"
     ]
    }
   ],
   "source": [
    "def my_func_1(a,b):\n",
    "    \"\"\"\n",
    "   adds two numbers.\n",
    "    \"\"\"\n",
    "    print(a+b)\n",
    "\n",
    "my_func_1(3,5)"
   ]
  },
  {
   "cell_type": "code",
   "execution_count": null,
   "id": "cae8817f-6815-4bd4-ba6a-717657906833",
   "metadata": {},
   "outputs": [],
   "source": [
    "## ->| + shift explain what is needed to bring in function\n",
    "\n",
    "my_func_1()"
   ]
  },
  {
   "cell_type": "code",
   "execution_count": 239,
   "id": "527cc0b0-8d1f-4da6-9929-c9a6cba3edba",
   "metadata": {},
   "outputs": [
    {
     "name": "stdout",
     "output_type": "stream",
     "text": [
      "30\n"
     ]
    }
   ],
   "source": [
    "def my_func(a=10, b=20):\n",
    "    \"\"\"\n",
    "    adds two numbers.\n",
    "    \"\"\"\n",
    "    print(a+b)\n",
    "    \n",
    "my_func()"
   ]
  },
  {
   "cell_type": "code",
   "execution_count": 245,
   "id": "c5b307ba-fe86-4115-9e4d-177100e32448",
   "metadata": {},
   "outputs": [],
   "source": [
    "def my_func_3(a,b):\n",
    "    \"\"\"\n",
    "    adds two values.\n",
    "    \"\"\"\n",
    "    return(a+b)"
   ]
  },
  {
   "cell_type": "code",
   "execution_count": 246,
   "id": "0cc964ef-c5a1-4748-9a0b-2561074c9970",
   "metadata": {},
   "outputs": [
    {
     "data": {
      "text/plain": [
       "8"
      ]
     },
     "execution_count": 246,
     "metadata": {},
     "output_type": "execute_result"
    }
   ],
   "source": [
    "my_func_3(3,5)"
   ]
  },
  {
   "cell_type": "code",
   "execution_count": 47,
   "id": "042e971f-1060-45c4-a4cf-adc7ae2cc301",
   "metadata": {},
   "outputs": [],
   "source": [
    "def my_func4(a,b):\n",
    "    \"\"\"\n",
    "    adds two numbers.\n",
    "    \"\"\"\n",
    "    a+b\n",
    "    return"
   ]
  },
  {
   "cell_type": "code",
   "execution_count": 48,
   "id": "fbfa82d9-0f3f-447a-bff3-6fff6c14db63",
   "metadata": {},
   "outputs": [],
   "source": [
    "my_func4(3,5)"
   ]
  },
  {
   "cell_type": "code",
   "execution_count": 8,
   "id": "3bee57d1-ad1a-4ec4-8d35-fd34cb8ece9d",
   "metadata": {},
   "outputs": [],
   "source": [
    "\n",
    "# Python List Comprehension \n",
    "# Making a list from another list or sequence\n",
    "\n",
    "x = [1,2,3,4]"
   ]
  },
  {
   "cell_type": "code",
   "execution_count": 26,
   "id": "d1e64bfe-5e3f-4e48-962f-ac19854d9ec9",
   "metadata": {},
   "outputs": [
    {
     "name": "stdout",
     "output_type": "stream",
     "text": [
      "[4, 16, 36, 64]\n"
     ]
    }
   ],
   "source": [
    "out = []\n",
    "for item in x:\n",
    "    out.append(item**2)\n",
    "\n",
    "print(out)"
   ]
  },
  {
   "cell_type": "code",
   "execution_count": 27,
   "id": "155eb33a-f580-43ba-af2b-9d0478155da4",
   "metadata": {},
   "outputs": [
    {
     "data": {
      "text/plain": [
       "[4, 16, 36, 64]"
      ]
     },
     "execution_count": 27,
     "metadata": {},
     "output_type": "execute_result"
    }
   ],
   "source": [
    "## We can do it in a shorter way (List Comprehension):\n",
    "\n",
    "[item**2 for item in x]"
   ]
  },
  {
   "cell_type": "code",
   "execution_count": 33,
   "id": "3bec9e94-ac5f-4c58-b7b1-bfae316eefb2",
   "metadata": {},
   "outputs": [],
   "source": [
    "## 2\n",
    "\n",
    "x_1 = [2,4,6,8]"
   ]
  },
  {
   "cell_type": "code",
   "execution_count": 29,
   "id": "2a2e7000-68c4-44be-90da-6168225d68c8",
   "metadata": {},
   "outputs": [],
   "source": [
    "x_1 = [2,4,6,8]\n"
   ]
  },
  {
   "cell_type": "code",
   "execution_count": 35,
   "id": "44fe12f6-01c8-47a6-8c31-ae46448bae86",
   "metadata": {},
   "outputs": [
    {
     "name": "stdout",
     "output_type": "stream",
     "text": [
      "[5, 11, 17, 23]\n"
     ]
    }
   ],
   "source": [
    "out_1 = []\n",
    "for item in x_1:\n",
    "    out_1.append(item *3-1)\n",
    "    \n",
    "print(out_1)"
   ]
  },
  {
   "cell_type": "code",
   "execution_count": 36,
   "id": "6d975cbb-0c86-4f1b-9648-c1ab550a2661",
   "metadata": {},
   "outputs": [
    {
     "data": {
      "text/plain": [
       "[5, 11, 17, 23]"
      ]
     },
     "execution_count": 36,
     "metadata": {},
     "output_type": "execute_result"
    }
   ],
   "source": [
    "[item *3-1 for item in x_1]"
   ]
  },
  {
   "cell_type": "code",
   "execution_count": 50,
   "id": "42cbdd74-ca6f-4e2b-9c94-6eca651f3fd7",
   "metadata": {},
   "outputs": [],
   "source": [
    "\n",
    "## Lambda Expression\n",
    "# for defining and summarising a function we use lambda\n",
    "\n",
    "def time2(var):\n",
    "    return var*2\n",
    "    "
   ]
  },
  {
   "cell_type": "code",
   "execution_count": 51,
   "id": "72f1bbcc-4545-4688-b378-f4dc70348b1a",
   "metadata": {},
   "outputs": [
    {
     "data": {
      "text/plain": [
       "4"
      ]
     },
     "execution_count": 51,
     "metadata": {},
     "output_type": "execute_result"
    }
   ],
   "source": [
    "time2(2)"
   ]
  },
  {
   "cell_type": "code",
   "execution_count": 52,
   "id": "85984712-4aa6-4a0f-93ee-3608fb9a72fa",
   "metadata": {},
   "outputs": [
    {
     "data": {
      "text/plain": [
       "<function __main__.<lambda>(var)>"
      ]
     },
     "execution_count": 52,
     "metadata": {},
     "output_type": "execute_result"
    }
   ],
   "source": [
    "lambda var: var*2"
   ]
  },
  {
   "cell_type": "code",
   "execution_count": 40,
   "id": "5f459845-3480-425f-ab1b-f2da56cf814f",
   "metadata": {},
   "outputs": [
    {
     "data": {
      "text/plain": [
       "4"
      ]
     },
     "execution_count": 40,
     "metadata": {},
     "output_type": "execute_result"
    }
   ],
   "source": [
    "time2(2)"
   ]
  },
  {
   "cell_type": "code",
   "execution_count": 37,
   "id": "6f85fa28-a0fe-478b-9e8b-590de12f20eb",
   "metadata": {},
   "outputs": [],
   "source": [
    "def course(var):\n",
    "    return var**3-4\n"
   ]
  },
  {
   "cell_type": "code",
   "execution_count": 38,
   "id": "480d4810-c87a-48da-937f-173c59bad286",
   "metadata": {},
   "outputs": [
    {
     "data": {
      "text/plain": [
       "60"
      ]
     },
     "execution_count": 38,
     "metadata": {},
     "output_type": "execute_result"
    }
   ],
   "source": [
    "course(4)"
   ]
  },
  {
   "cell_type": "code",
   "execution_count": 44,
   "id": "7328a04b-e1c2-4d6e-a582-e0bd25a19feb",
   "metadata": {},
   "outputs": [
    {
     "data": {
      "text/plain": [
       "<function __main__.<lambda>(var)>"
      ]
     },
     "execution_count": 44,
     "metadata": {},
     "output_type": "execute_result"
    }
   ],
   "source": [
    "## You made a function object\n",
    "\n",
    "lambda var: var**3-4"
   ]
  },
  {
   "cell_type": "code",
   "execution_count": 46,
   "id": "e52c27f6-6cb7-4968-bc4a-c8a1dcac520f",
   "metadata": {},
   "outputs": [
    {
     "data": {
      "text/plain": [
       "212"
      ]
     },
     "execution_count": 46,
     "metadata": {},
     "output_type": "execute_result"
    }
   ],
   "source": [
    "## We can give it a value in a separate ()\n",
    "\n",
    "(lambda var: var**3-4)(6)"
   ]
  },
  {
   "cell_type": "code",
   "execution_count": 53,
   "id": "e91c45cf-e6ae-492e-b059-b7279586f788",
   "metadata": {},
   "outputs": [
    {
     "name": "stdout",
     "output_type": "stream",
     "text": [
      "1\n",
      "3\n",
      "5\n",
      "7\n"
     ]
    }
   ],
   "source": [
    "## Diff between for and List Comprehension and Lambda:\n",
    "\n",
    "# for is classical and flexible, called line by line.\n",
    "# you can make any changes within for: print, changing variable, if,...\n",
    "\n",
    "## Example 1\n",
    "\n",
    "seq=[1,3,5,7]\n",
    "for item in(seq):\n",
    "    print(item)"
   ]
  },
  {
   "cell_type": "code",
   "execution_count": 55,
   "id": "98e6ce2a-3108-4af3-a795-a10d358bddc0",
   "metadata": {},
   "outputs": [
    {
     "name": "stdout",
     "output_type": "stream",
     "text": [
      "YoHOO\n",
      "YoHOO\n",
      "YoHOO\n",
      "YoHOO\n"
     ]
    }
   ],
   "source": [
    "## Example 2\n",
    "\n",
    "for item in(seq):\n",
    "    print('YoHOO')\n"
   ]
  },
  {
   "cell_type": "code",
   "execution_count": 56,
   "id": "7d7702d0-55df-4279-b482-ee36afcd2866",
   "metadata": {},
   "outputs": [
    {
     "name": "stdout",
     "output_type": "stream",
     "text": [
      "1\n",
      "9\n",
      "25\n",
      "49\n"
     ]
    }
   ],
   "source": [
    "## Example 3\n",
    "\n",
    "for item in(seq):\n",
    "    print(item**2)"
   ]
  },
  {
   "cell_type": "code",
   "execution_count": 57,
   "id": "21c58cc1-69d6-432d-afe2-a1efcd60d645",
   "metadata": {},
   "outputs": [
    {
     "name": "stdout",
     "output_type": "stream",
     "text": [
      "[0, 2, 4, 6, 8]\n"
     ]
    }
   ],
   "source": [
    "## Example 4\n",
    "\n",
    "evens = []\n",
    "for n in range(10):\n",
    "    if n % 2 == 0:\n",
    "        evens.append(n)\n",
    "print(evens)\n"
   ]
  },
  {
   "cell_type": "code",
   "execution_count": 60,
   "id": "05d10702-d839-4bf2-9653-0a240ad11dfa",
   "metadata": {},
   "outputs": [
    {
     "name": "stdout",
     "output_type": "stream",
     "text": [
      "[0, 3, 6, 9, 12, 15, 18]\n"
     ]
    }
   ],
   "source": [
    "## Example 5\n",
    "\n",
    "odds = []\n",
    "for n in range(19):\n",
    "    if n % 3 == 0:\n",
    "        odds.append(n)\n",
    "print(odds)\n"
   ]
  },
  {
   "cell_type": "code",
   "execution_count": 73,
   "id": "310bfeb8-3d61-41b6-ad2e-cd0a0e929e5d",
   "metadata": {},
   "outputs": [],
   "source": [
    "\n",
    "## list comprehension make a list of a list or sequence;\n",
    "\n",
    "x=[1,2,3,4]\n",
    "  "
   ]
  },
  {
   "cell_type": "code",
   "execution_count": 74,
   "id": "f3372015-8a67-4a25-a6ef-c9146bb51cc8",
   "metadata": {},
   "outputs": [
    {
     "name": "stdout",
     "output_type": "stream",
     "text": [
      "[1, 4, 9, 16]\n"
     ]
    }
   ],
   "source": [
    "squares = []\n",
    "for nums in x:\n",
    "    squares.append(nums**2)\n",
    "print(squares)"
   ]
  },
  {
   "cell_type": "code",
   "execution_count": 75,
   "id": "693606ae-88a3-4b3d-9735-c06e3daeec80",
   "metadata": {},
   "outputs": [
    {
     "data": {
      "text/plain": [
       "[1, 4, 9, 16]"
      ]
     },
     "execution_count": 75,
     "metadata": {},
     "output_type": "execute_result"
    }
   ],
   "source": [
    "## List Comprehension\n",
    "\n",
    "[nums**2 for nums in x]"
   ]
  },
  {
   "cell_type": "code",
   "execution_count": 77,
   "id": "74ef66a8-d555-48d0-acd1-988e40c62481",
   "metadata": {},
   "outputs": [
    {
     "name": "stdout",
     "output_type": "stream",
     "text": [
      "[1, 4, 9, 16]\n"
     ]
    }
   ],
   "source": [
    "## or\n",
    "\n",
    "squares = [nums**2 for nums in x]\n",
    "print(squares)"
   ]
  },
  {
   "cell_type": "code",
   "execution_count": 79,
   "id": "90913b3e-526b-472c-8846-91de53298c72",
   "metadata": {},
   "outputs": [
    {
     "name": "stdout",
     "output_type": "stream",
     "text": [
      "16\n"
     ]
    }
   ],
   "source": [
    "\n",
    "## Lambda \n",
    "# A no name function which is usually one line\n",
    "# does'nt make a list, but it defines a function\n",
    "\n",
    "square = lambda x: x**2\n",
    "print(square(4))\n"
   ]
  },
  {
   "cell_type": "code",
   "execution_count": 83,
   "id": "2751d450-824e-494e-b198-e027bfc807f5",
   "metadata": {},
   "outputs": [
    {
     "data": {
      "text/plain": [
       "<function print(*args, sep=' ', end='\\n', file=None, flush=False)>"
      ]
     },
     "execution_count": 83,
     "metadata": {},
     "output_type": "execute_result"
    }
   ],
   "source": [
    "lambda x: x**2 \n",
    "print"
   ]
  },
  {
   "cell_type": "code",
   "execution_count": 84,
   "id": "211bede9-44c0-430f-a2db-ce995de81fb4",
   "metadata": {},
   "outputs": [
    {
     "data": {
      "text/plain": [
       "16"
      ]
     },
     "execution_count": 84,
     "metadata": {},
     "output_type": "execute_result"
    }
   ],
   "source": [
    "(lambda x: x**2)(4)"
   ]
  },
  {
   "cell_type": "code",
   "execution_count": 143,
   "id": "6184f671-09e5-425a-9596-56825e426f9a",
   "metadata": {},
   "outputs": [],
   "source": [
    "## Methods \n",
    "\n",
    "# list\n",
    "\n",
    "lst= [1,22,31,14] \n"
   ]
  },
  {
   "cell_type": "code",
   "execution_count": 144,
   "id": "1ca7c583-ccdc-4cbf-a0da-fe1bd0796901",
   "metadata": {},
   "outputs": [
    {
     "name": "stdout",
     "output_type": "stream",
     "text": [
      "[1, 14, 22, 31]\n"
     ]
    }
   ],
   "source": [
    "lst.sort()\n",
    "print(lst)"
   ]
  },
  {
   "cell_type": "code",
   "execution_count": 145,
   "id": "4d6a5d9f-f3c5-4f48-99ca-7b0cdffdbed4",
   "metadata": {},
   "outputs": [
    {
     "name": "stdout",
     "output_type": "stream",
     "text": [
      "[1, 14, 22, 31, 50]\n"
     ]
    }
   ],
   "source": [
    "lst.append(50)\n",
    "print(lst)"
   ]
  },
  {
   "cell_type": "code",
   "execution_count": 146,
   "id": "9e381922-cc66-4364-89c5-f983dc768903",
   "metadata": {},
   "outputs": [
    {
     "name": "stdout",
     "output_type": "stream",
     "text": [
      "[50, 31, 22, 14, 1]\n"
     ]
    }
   ],
   "source": [
    "lst.reverse()\n",
    "print(lst)"
   ]
  },
  {
   "cell_type": "code",
   "execution_count": 147,
   "id": "7b30cb16-927c-48ec-8f5d-42de9a140197",
   "metadata": {},
   "outputs": [],
   "source": [
    "\n",
    "# String\n",
    "\n",
    "string= 'Hello World'"
   ]
  },
  {
   "cell_type": "code",
   "execution_count": 148,
   "id": "c88e79f6-65dc-4731-8e4c-1b0ba2855430",
   "metadata": {},
   "outputs": [
    {
     "data": {
      "text/plain": [
       "['Hello', 'World']"
      ]
     },
     "execution_count": 148,
     "metadata": {},
     "output_type": "execute_result"
    }
   ],
   "source": [
    "string.split()"
   ]
  },
  {
   "cell_type": "code",
   "execution_count": 149,
   "id": "592f3072-0804-4a34-9aa9-d177cfd75a4f",
   "metadata": {},
   "outputs": [
    {
     "data": {
      "text/plain": [
       "'HELLO WORLD'"
      ]
     },
     "execution_count": 149,
     "metadata": {},
     "output_type": "execute_result"
    }
   ],
   "source": [
    "string.upper()"
   ]
  },
  {
   "cell_type": "code",
   "execution_count": 150,
   "id": "2c2a4854-d1e2-4bca-a5b7-693b178a0667",
   "metadata": {},
   "outputs": [
    {
     "data": {
      "text/plain": [
       "'hello world'"
      ]
     },
     "execution_count": 150,
     "metadata": {},
     "output_type": "execute_result"
    }
   ],
   "source": [
    "string.lower()"
   ]
  },
  {
   "cell_type": "code",
   "execution_count": 152,
   "id": "48764a82-a901-423d-b972-831700484fbe",
   "metadata": {},
   "outputs": [],
   "source": [
    "\n",
    "# Dictionary \n",
    "\n",
    "dic = {'a': 1, 'b': 2}\n"
   ]
  },
  {
   "cell_type": "code",
   "execution_count": 153,
   "id": "4f8c7828-a4fa-44a9-bdbb-6499d9149e38",
   "metadata": {},
   "outputs": [
    {
     "data": {
      "text/plain": [
       "dict_keys(['a', 'b'])"
      ]
     },
     "execution_count": 153,
     "metadata": {},
     "output_type": "execute_result"
    }
   ],
   "source": [
    "dic.keys()"
   ]
  },
  {
   "cell_type": "code",
   "execution_count": 154,
   "id": "228ee580-a5ca-4db1-8da6-8f3c9e4b05a4",
   "metadata": {},
   "outputs": [
    {
     "data": {
      "text/plain": [
       "dict_values([1, 2])"
      ]
     },
     "execution_count": 154,
     "metadata": {},
     "output_type": "execute_result"
    }
   ],
   "source": [
    "dic.values()"
   ]
  },
  {
   "cell_type": "code",
   "execution_count": 155,
   "id": "136cf63c-ffc8-4c17-9606-237c356361bf",
   "metadata": {},
   "outputs": [
    {
     "data": {
      "text/plain": [
       "dict_items([('a', 1), ('b', 2)])"
      ]
     },
     "execution_count": 155,
     "metadata": {},
     "output_type": "execute_result"
    }
   ],
   "source": [
    "dic.items()"
   ]
  },
  {
   "cell_type": "code",
   "execution_count": 158,
   "id": "74a2ea53-ec84-428c-9936-b6d9304ea85b",
   "metadata": {},
   "outputs": [],
   "source": [
    "\n",
    "# Set\n",
    "\n",
    "set = {2, 4, 7, 9, 21, 26} \n"
   ]
  },
  {
   "cell_type": "code",
   "execution_count": 160,
   "id": "8b83c672-a4c9-4c92-8cc1-92d378a89245",
   "metadata": {},
   "outputs": [
    {
     "name": "stdout",
     "output_type": "stream",
     "text": [
      "{2, 4, 21, 22, 7, 9, 26}\n"
     ]
    }
   ],
   "source": [
    "set.add(22)\n",
    "print(set)"
   ]
  },
  {
   "cell_type": "code",
   "execution_count": 161,
   "id": "dd8e2111-d27e-45e3-a2f9-adf302d712d5",
   "metadata": {},
   "outputs": [
    {
     "name": "stdout",
     "output_type": "stream",
     "text": [
      "Hi\n"
     ]
    }
   ],
   "source": [
    "\n",
    "# Built-in Functions\n",
    "\n",
    "print('Hi')"
   ]
  },
  {
   "cell_type": "code",
   "execution_count": 162,
   "id": "f32ea1d6-260e-4288-ac29-475d4c1b0c10",
   "metadata": {},
   "outputs": [
    {
     "data": {
      "text/plain": [
       "str"
      ]
     },
     "execution_count": 162,
     "metadata": {},
     "output_type": "execute_result"
    }
   ],
   "source": [
    "type('hi')"
   ]
  },
  {
   "cell_type": "code",
   "execution_count": 164,
   "id": "8165cef4-2286-47c5-b9f1-432a87af5e1f",
   "metadata": {},
   "outputs": [
    {
     "data": {
      "text/plain": [
       "3"
      ]
     },
     "execution_count": 164,
     "metadata": {},
     "output_type": "execute_result"
    }
   ],
   "source": [
    "len([1,2,5])"
   ]
  },
  {
   "cell_type": "code",
   "execution_count": 165,
   "id": "7f1458eb-3546-49e2-abf0-d40db7311dec",
   "metadata": {},
   "outputs": [
    {
     "data": {
      "text/plain": [
       "5"
      ]
     },
     "execution_count": 165,
     "metadata": {},
     "output_type": "execute_result"
    }
   ],
   "source": [
    "max([1,2,5])"
   ]
  },
  {
   "cell_type": "code",
   "execution_count": 166,
   "id": "7a33af25-7d98-4929-9ef4-ba07464547bd",
   "metadata": {},
   "outputs": [
    {
     "data": {
      "text/plain": [
       "1"
      ]
     },
     "execution_count": 166,
     "metadata": {},
     "output_type": "execute_result"
    }
   ],
   "source": [
    "min([1,2,5])"
   ]
  },
  {
   "cell_type": "code",
   "execution_count": 167,
   "id": "c92806e7-a6d0-4191-9d5d-c88ce6d54d64",
   "metadata": {},
   "outputs": [
    {
     "data": {
      "text/plain": [
       "8"
      ]
     },
     "execution_count": 167,
     "metadata": {},
     "output_type": "execute_result"
    }
   ],
   "source": [
    "sum([1,2,5])"
   ]
  },
  {
   "cell_type": "code",
   "execution_count": 168,
   "id": "fa919b6b-df32-4981-a8dd-ccf0bb7b0143",
   "metadata": {},
   "outputs": [
    {
     "data": {
      "text/plain": [
       "[1, 5, 6]"
      ]
     },
     "execution_count": 168,
     "metadata": {},
     "output_type": "execute_result"
    }
   ],
   "source": [
    "sorted([1,6,5])"
   ]
  },
  {
   "cell_type": "code",
   "execution_count": 169,
   "id": "6fd9220a-3d0a-4581-8b66-c53ef7c4ad93",
   "metadata": {},
   "outputs": [
    {
     "data": {
      "text/plain": [
       "range(0, 6)"
      ]
     },
     "execution_count": 169,
     "metadata": {},
     "output_type": "execute_result"
    }
   ],
   "source": [
    "range(6)"
   ]
  },
  {
   "cell_type": "code",
   "execution_count": 174,
   "id": "2ef9f9af-d508-4181-8230-4d9beb7b2065",
   "metadata": {},
   "outputs": [],
   "source": [
    "del list"
   ]
  },
  {
   "cell_type": "code",
   "execution_count": 175,
   "id": "0749c582-6e83-4927-8468-612c261189d6",
   "metadata": {},
   "outputs": [
    {
     "name": "stdout",
     "output_type": "stream",
     "text": [
      "[0, 1, 2, 3, 4, 5]\n"
     ]
    }
   ],
   "source": [
    "print(list(range(6)))"
   ]
  },
  {
   "cell_type": "code",
   "execution_count": 176,
   "id": "a421adca-015e-4e5b-997f-9227a96f490d",
   "metadata": {},
   "outputs": [
    {
     "data": {
      "text/plain": [
       "8"
      ]
     },
     "execution_count": 176,
     "metadata": {},
     "output_type": "execute_result"
    }
   ],
   "source": [
    "abs(-8)"
   ]
  },
  {
   "cell_type": "code",
   "execution_count": 177,
   "id": "2cc18a5d-bd70-46f0-9083-b32effc8ba71",
   "metadata": {},
   "outputs": [
    {
     "data": {
      "text/plain": [
       "3452"
      ]
     },
     "execution_count": 177,
     "metadata": {},
     "output_type": "execute_result"
    }
   ],
   "source": [
    "round(3452,87546787)"
   ]
  },
  {
   "cell_type": "code",
   "execution_count": 185,
   "id": "ef81eb74-5e95-48da-9a23-de1c13892162",
   "metadata": {},
   "outputs": [],
   "source": [
    "\n",
    "# del\n",
    "\n",
    "x = 10\n",
    "\n",
    "del x"
   ]
  },
  {
   "cell_type": "code",
   "execution_count": null,
   "id": "82730ebd-d88e-47f0-955d-a91baa56672d",
   "metadata": {},
   "outputs": [],
   "source": [
    "#   print(x) ---> name 'x' is not defined"
   ]
  },
  {
   "cell_type": "code",
   "execution_count": 187,
   "id": "f6f8a15a-5113-4c75-9d10-5cc601d3084c",
   "metadata": {},
   "outputs": [
    {
     "name": "stdout",
     "output_type": "stream",
     "text": [
      "[1, 3, 5]\n"
     ]
    }
   ],
   "source": [
    "\n",
    "nums = [1,3,5,6]\n",
    "\n",
    "del nums[3]\n",
    "print(nums)\n"
   ]
  },
  {
   "cell_type": "code",
   "execution_count": 188,
   "id": "02642ba1-4ccb-4838-81f4-dcc54d5c063c",
   "metadata": {},
   "outputs": [
    {
     "name": "stdout",
     "output_type": "stream",
     "text": [
      "{'b': 2}\n"
     ]
    }
   ],
   "source": [
    "\n",
    "dic = {\"a\": 1, \"b\": 2}\n",
    "\n",
    "del dic[\"a\"]\n",
    "print(dic)\n"
   ]
  },
  {
   "cell_type": "code",
   "execution_count": 200,
   "id": "f4c4a342-f554-44a1-9b60-88264fdc07b7",
   "metadata": {},
   "outputs": [
    {
     "name": "stdout",
     "output_type": "stream",
     "text": [
      "default\n",
      "Hello\n"
     ]
    }
   ],
   "source": [
    "\n",
    "# Defining functions\n",
    "\n",
    "def my_func(param1= 'default'):\n",
    "    \"\"\"\n",
    "    docstring goes here.\n",
    "    \"\"\"\n",
    "    print(param1)\n",
    "\n",
    "my_func()\n",
    "my_func(\"Hello\")  "
   ]
  },
  {
   "cell_type": "code",
   "execution_count": null,
   "id": "7ee74d03-e74e-4fcb-849a-31b377c93446",
   "metadata": {},
   "outputs": [],
   "source": [
    "\n",
    "# Quiz\n"
   ]
  },
  {
   "cell_type": "code",
   "execution_count": 40,
   "id": "0179069a-4222-43e3-b204-086a60fe051f",
   "metadata": {},
   "outputs": [
    {
     "data": {
      "text/plain": [
       "False"
      ]
     },
     "execution_count": 40,
     "metadata": {},
     "output_type": "execute_result"
    }
   ],
   "source": [
    "1 == 2"
   ]
  },
  {
   "cell_type": "code",
   "execution_count": 203,
   "id": "cb4cd0dc-3ecf-486e-8100-c26005a9246c",
   "metadata": {},
   "outputs": [
    {
     "data": {
      "text/plain": [
       "False"
      ]
     },
     "execution_count": 203,
     "metadata": {},
     "output_type": "execute_result"
    }
   ],
   "source": [
    "i = 6\n",
    "i < 5"
   ]
  },
  {
   "cell_type": "code",
   "execution_count": 204,
   "id": "7a87239c-2371-46c8-80cb-5e9b361411ae",
   "metadata": {},
   "outputs": [
    {
     "data": {
      "text/plain": [
       "False"
      ]
     },
     "execution_count": 204,
     "metadata": {},
     "output_type": "execute_result"
    }
   ],
   "source": [
    "5 != 5"
   ]
  },
  {
   "cell_type": "code",
   "execution_count": 205,
   "id": "868e1f92-79ee-41a3-83f0-48c9445396bd",
   "metadata": {},
   "outputs": [
    {
     "data": {
      "text/plain": [
       "False"
      ]
     },
     "execution_count": 205,
     "metadata": {},
     "output_type": "execute_result"
    }
   ],
   "source": [
    "'a' == 'A'"
   ]
  },
  {
   "cell_type": "code",
   "execution_count": 207,
   "id": "921dd585-8a99-4621-90b6-34a600c32cc6",
   "metadata": {},
   "outputs": [
    {
     "data": {
      "text/plain": [
       "'hello! my name is samko.'"
      ]
     },
     "execution_count": 207,
     "metadata": {},
     "output_type": "execute_result"
    }
   ],
   "source": [
    "\n",
    "### Monogram1-week4-notebook1 ###\n",
    "\n",
    "# Methods # \n",
    "\n",
    "st = 'Hello! my name is Samko.'\n",
    "\n",
    "st.lower()"
   ]
  },
  {
   "cell_type": "code",
   "execution_count": 208,
   "id": "2c5abe9a-eb71-493a-a742-8e7ddaa6e08a",
   "metadata": {},
   "outputs": [
    {
     "data": {
      "text/plain": [
       "'HELLO! MY NAME IS SAMKO.'"
      ]
     },
     "execution_count": 208,
     "metadata": {},
     "output_type": "execute_result"
    }
   ],
   "source": [
    "st.upper()"
   ]
  },
  {
   "cell_type": "code",
   "execution_count": 209,
   "id": "b1a737f1-47fd-48b6-a342-41a1c9f2e8b0",
   "metadata": {},
   "outputs": [
    {
     "data": {
      "text/plain": [
       "['Hello!', 'my', 'name', 'is', 'Samko.']"
      ]
     },
     "execution_count": 209,
     "metadata": {},
     "output_type": "execute_result"
    }
   ],
   "source": [
    "st.split()"
   ]
  },
  {
   "cell_type": "code",
   "execution_count": 210,
   "id": "04267d0a-30d7-43be-a516-dce169c09dc9",
   "metadata": {},
   "outputs": [
    {
     "data": {
      "text/plain": [
       "'go sports! #sports!'"
      ]
     },
     "execution_count": 210,
     "metadata": {},
     "output_type": "execute_result"
    }
   ],
   "source": [
    "\n",
    "tweet = 'Go Sports! #Sports!'\n",
    "tweet.lower()"
   ]
  },
  {
   "cell_type": "code",
   "execution_count": 211,
   "id": "74498f22-9444-4617-ad71-6dc34d04d119",
   "metadata": {},
   "outputs": [
    {
     "data": {
      "text/plain": [
       "'GO SPORTS! #SPORTS!'"
      ]
     },
     "execution_count": 211,
     "metadata": {},
     "output_type": "execute_result"
    }
   ],
   "source": [
    "tweet.upper()"
   ]
  },
  {
   "cell_type": "code",
   "execution_count": 212,
   "id": "54ae0516-76af-48c4-a228-e431cb94acfa",
   "metadata": {},
   "outputs": [
    {
     "data": {
      "text/plain": [
       "['Go', 'Sports!', '#Sports!']"
      ]
     },
     "execution_count": 212,
     "metadata": {},
     "output_type": "execute_result"
    }
   ],
   "source": [
    "tweet.split()"
   ]
  },
  {
   "cell_type": "code",
   "execution_count": 214,
   "id": "58827a50-b80c-43d6-83a4-0e2fbb01ae6d",
   "metadata": {},
   "outputs": [
    {
     "data": {
      "text/plain": [
       "['Go Sports! ', 'Sports!']"
      ]
     },
     "execution_count": 214,
     "metadata": {},
     "output_type": "execute_result"
    }
   ],
   "source": [
    "tweet.split('#')"
   ]
  },
  {
   "cell_type": "code",
   "execution_count": 215,
   "id": "6c8dda07-d1d4-4153-a383-8c732496b81b",
   "metadata": {},
   "outputs": [
    {
     "data": {
      "text/plain": [
       "'Sports!'"
      ]
     },
     "execution_count": 215,
     "metadata": {},
     "output_type": "execute_result"
    }
   ],
   "source": [
    "tweet.split('#')[1]"
   ]
  },
  {
   "cell_type": "code",
   "execution_count": 217,
   "id": "8e00c1d2-59cf-48f6-8e10-de8c24436387",
   "metadata": {},
   "outputs": [
    {
     "name": "stdout",
     "output_type": "stream",
     "text": [
      "[1, 2, 3, 5]\n"
     ]
    }
   ],
   "source": [
    "\n",
    "lst = [5,1,2,3]\n",
    "lst.sort()\n",
    "print(lst)"
   ]
  },
  {
   "cell_type": "code",
   "execution_count": 218,
   "id": "d56aa315-4b50-4fa8-878e-9c64a6fb5571",
   "metadata": {},
   "outputs": [
    {
     "data": {
      "text/plain": [
       "True"
      ]
     },
     "execution_count": 218,
     "metadata": {},
     "output_type": "execute_result"
    }
   ],
   "source": [
    "'x' in ['x', 'y', 'z']"
   ]
  },
  {
   "cell_type": "code",
   "execution_count": 219,
   "id": "9b5e4b6f-0f7d-4d48-8063-f3a844d29a1e",
   "metadata": {},
   "outputs": [
    {
     "name": "stdout",
     "output_type": "stream",
     "text": [
      "Hello! my name is Samko.\n"
     ]
    }
   ],
   "source": [
    "print(st)"
   ]
  },
  {
   "cell_type": "code",
   "execution_count": null,
   "id": "b0e3a70e-bd35-43d6-bc38-2c90352f3f42",
   "metadata": {},
   "outputs": [],
   "source": []
  },
  {
   "cell_type": "code",
   "execution_count": null,
   "id": "3c962f02-6b41-4c11-af02-115f24bc8271",
   "metadata": {},
   "outputs": [],
   "source": []
  }
 ],
 "metadata": {
  "kernelspec": {
   "display_name": "Python 3 (ipykernel)",
   "language": "python",
   "name": "python3"
  },
  "language_info": {
   "codemirror_mode": {
    "name": "ipython",
    "version": 3
   },
   "file_extension": ".py",
   "mimetype": "text/x-python",
   "name": "python",
   "nbconvert_exporter": "python",
   "pygments_lexer": "ipython3",
   "version": "3.13.7"
  }
 },
 "nbformat": 4,
 "nbformat_minor": 5
}
