{
 "cells": [
  {
   "cell_type": "code",
   "execution_count": 1,
   "id": "413e5db2-0cbf-4b42-8a88-818d2316a5ae",
   "metadata": {},
   "outputs": [],
   "source": [
    "###### Monogram_2, Week_1\n",
    "\n",
    "#### Introduction  to Python\n",
    "\n",
    "\n",
    "## Data types  : Numbers , Strings , Lists \n",
    "\n",
    "## Printing\n"
   ]
  },
  {
   "cell_type": "code",
   "execution_count": 2,
   "id": "60756aed-a836-4ea9-b79e-6e12492e4c67",
   "metadata": {},
   "outputs": [],
   "source": [
    "## Numbers\n",
    "\n",
    "a = 3 "
   ]
  },
  {
   "cell_type": "code",
   "execution_count": 3,
   "id": "6eb8855c-9558-4427-a1c6-02e985a79356",
   "metadata": {},
   "outputs": [
    {
     "name": "stdout",
     "output_type": "stream",
     "text": [
      "3\n"
     ]
    }
   ],
   "source": [
    "print(a)"
   ]
  },
  {
   "cell_type": "code",
   "execution_count": 4,
   "id": "347cff9e-b26c-4784-a2cc-4498d93cd4f7",
   "metadata": {},
   "outputs": [
    {
     "data": {
      "text/plain": [
       "2"
      ]
     },
     "execution_count": 4,
     "metadata": {},
     "output_type": "execute_result"
    }
   ],
   "source": [
    "1 + 1"
   ]
  },
  {
   "cell_type": "code",
   "execution_count": 5,
   "id": "789648ab-7841-4382-a994-9ba543bc48fb",
   "metadata": {},
   "outputs": [
    {
     "data": {
      "text/plain": [
       "3"
      ]
     },
     "execution_count": 5,
     "metadata": {},
     "output_type": "execute_result"
    }
   ],
   "source": [
    "1 * 3"
   ]
  },
  {
   "cell_type": "code",
   "execution_count": 6,
   "id": "f5605cd0-0c56-404a-9d49-b6737e73c741",
   "metadata": {},
   "outputs": [
    {
     "data": {
      "text/plain": [
       "0.5"
      ]
     },
     "execution_count": 6,
     "metadata": {},
     "output_type": "execute_result"
    }
   ],
   "source": [
    "1/2"
   ]
  },
  {
   "cell_type": "code",
   "execution_count": 7,
   "id": "dc84b751-5aa1-465f-811c-d3c92d593a04",
   "metadata": {},
   "outputs": [
    {
     "data": {
      "text/plain": [
       "16"
      ]
     },
     "execution_count": 7,
     "metadata": {},
     "output_type": "execute_result"
    }
   ],
   "source": [
    "2 ** 4"
   ]
  },
  {
   "cell_type": "code",
   "execution_count": 8,
   "id": "e60834ef-d906-49ba-8017-1307ccb3c483",
   "metadata": {},
   "outputs": [],
   "source": [
    "a = 30"
   ]
  },
  {
   "cell_type": "code",
   "execution_count": 9,
   "id": "e7edd946-2426-40e3-9920-7cacaa45bfe0",
   "metadata": {},
   "outputs": [
    {
     "data": {
      "text/plain": [
       "30"
      ]
     },
     "execution_count": 9,
     "metadata": {},
     "output_type": "execute_result"
    }
   ],
   "source": [
    "a"
   ]
  },
  {
   "cell_type": "code",
   "execution_count": 10,
   "id": "40c41840-23cb-4edd-999e-7d53ba8210c6",
   "metadata": {},
   "outputs": [
    {
     "data": {
      "text/plain": [
       "0"
      ]
     },
     "execution_count": 10,
     "metadata": {},
     "output_type": "execute_result"
    }
   ],
   "source": [
    "4 % 2"
   ]
  },
  {
   "cell_type": "code",
   "execution_count": 11,
   "id": "0cd5714c-511f-41a7-9f10-488122575d8d",
   "metadata": {},
   "outputs": [
    {
     "data": {
      "text/plain": [
       "1"
      ]
     },
     "execution_count": 11,
     "metadata": {},
     "output_type": "execute_result"
    }
   ],
   "source": [
    "5 % 2"
   ]
  },
  {
   "cell_type": "code",
   "execution_count": 12,
   "id": "21c5799b-71ae-414a-a445-5364a8058e0c",
   "metadata": {},
   "outputs": [
    {
     "data": {
      "text/plain": [
       "2"
      ]
     },
     "execution_count": 12,
     "metadata": {},
     "output_type": "execute_result"
    }
   ],
   "source": [
    "5 // 2"
   ]
  },
  {
   "cell_type": "code",
   "execution_count": 13,
   "id": "c42c1230-4088-42eb-b90c-93901524f34d",
   "metadata": {},
   "outputs": [
    {
     "data": {
      "text/plain": [
       "50"
      ]
     },
     "execution_count": 13,
     "metadata": {},
     "output_type": "execute_result"
    }
   ],
   "source": [
    "(2 + 3) * (5 + 5)"
   ]
  },
  {
   "cell_type": "code",
   "execution_count": 14,
   "id": "3b690ef1-d502-49da-8b08-a82e4e06d7c5",
   "metadata": {},
   "outputs": [],
   "source": [
    "## Variable Assignment\n",
    "\n",
    "## Can not start with number or special characters\n",
    "\n",
    "name_of_var = 2"
   ]
  },
  {
   "cell_type": "code",
   "execution_count": 15,
   "id": "1961455e-0574-4967-acdf-e1612aa29fb9",
   "metadata": {},
   "outputs": [],
   "source": [
    "x = 2\n",
    "y = 3"
   ]
  },
  {
   "cell_type": "code",
   "execution_count": 16,
   "id": "e6fcb72f-d148-4af2-b179-b344db1f9b39",
   "metadata": {},
   "outputs": [
    {
     "data": {
      "text/plain": [
       "5"
      ]
     },
     "execution_count": 16,
     "metadata": {},
     "output_type": "execute_result"
    }
   ],
   "source": [
    "z = x + y\n",
    "z"
   ]
  },
  {
   "cell_type": "code",
   "execution_count": 17,
   "id": "2e9ed8e2-7dc8-4ca6-bfb7-58a43d2edbcd",
   "metadata": {},
   "outputs": [
    {
     "data": {
      "text/plain": [
       "'single quotes'"
      ]
     },
     "execution_count": 17,
     "metadata": {},
     "output_type": "execute_result"
    }
   ],
   "source": [
    "## Strings\n",
    "\n",
    "'single quotes'"
   ]
  },
  {
   "cell_type": "code",
   "execution_count": 18,
   "id": "48813450-da84-4c5e-bf04-9a2170bfe35c",
   "metadata": {},
   "outputs": [
    {
     "data": {
      "text/plain": [
       "'double quotes'"
      ]
     },
     "execution_count": 18,
     "metadata": {},
     "output_type": "execute_result"
    }
   ],
   "source": [
    "\"double quotes\""
   ]
  },
  {
   "cell_type": "code",
   "execution_count": 19,
   "id": "e651b29f-235d-42ac-9641-1a5096108f7f",
   "metadata": {},
   "outputs": [
    {
     "data": {
      "text/plain": [
       "\"warp lot's of other quotes\""
      ]
     },
     "execution_count": 19,
     "metadata": {},
     "output_type": "execute_result"
    }
   ],
   "source": [
    "\"warp lot's of other quotes\""
   ]
  },
  {
   "cell_type": "code",
   "execution_count": 20,
   "id": "0323d641-1eb6-4941-9e57-95ede099c52f",
   "metadata": {},
   "outputs": [],
   "source": [
    "b = \"Talapy\""
   ]
  },
  {
   "cell_type": "code",
   "execution_count": 21,
   "id": "acd0ed10-2289-454d-a8d4-9a80bfa536b9",
   "metadata": {},
   "outputs": [
    {
     "data": {
      "text/plain": [
       "'a'"
      ]
     },
     "execution_count": 21,
     "metadata": {},
     "output_type": "execute_result"
    }
   ],
   "source": [
    "b[3]"
   ]
  },
  {
   "cell_type": "code",
   "execution_count": 22,
   "id": "96413408-cdfc-4c56-8ff7-715d840f2887",
   "metadata": {},
   "outputs": [
    {
     "data": {
      "text/plain": [
       "'T'"
      ]
     },
     "execution_count": 22,
     "metadata": {},
     "output_type": "execute_result"
    }
   ],
   "source": [
    "b[-6]"
   ]
  },
  {
   "cell_type": "code",
   "execution_count": 23,
   "id": "1d832f01-f5f7-46fe-81f4-87c8f2fefa3d",
   "metadata": {},
   "outputs": [
    {
     "data": {
      "text/plain": [
       "'Tala'"
      ]
     },
     "execution_count": 23,
     "metadata": {},
     "output_type": "execute_result"
    }
   ],
   "source": [
    "b[:4]"
   ]
  },
  {
   "cell_type": "code",
   "execution_count": 24,
   "id": "7796eb26-c99b-498f-bf48-b70f8872fdbf",
   "metadata": {},
   "outputs": [
    {
     "data": {
      "text/plain": [
       "'lapy'"
      ]
     },
     "execution_count": 24,
     "metadata": {},
     "output_type": "execute_result"
    }
   ],
   "source": [
    "b[2:]"
   ]
  },
  {
   "cell_type": "code",
   "execution_count": 25,
   "id": "c9abd11c-502f-4c4c-86fc-e17242ec48bf",
   "metadata": {},
   "outputs": [
    {
     "data": {
      "text/plain": [
       "'alap'"
      ]
     },
     "execution_count": 25,
     "metadata": {},
     "output_type": "execute_result"
    }
   ],
   "source": [
    "b[1:5]"
   ]
  },
  {
   "cell_type": "code",
   "execution_count": 26,
   "id": "b1cbe996-20c0-478b-bf86-c61747e3510a",
   "metadata": {},
   "outputs": [
    {
     "data": {
      "text/plain": [
       "'l'"
      ]
     },
     "execution_count": 26,
     "metadata": {},
     "output_type": "execute_result"
    }
   ],
   "source": [
    "b[-4]"
   ]
  },
  {
   "cell_type": "code",
   "execution_count": 27,
   "id": "a8e7abdb-e959-436a-8db0-241ac8de8018",
   "metadata": {},
   "outputs": [
    {
     "data": {
      "text/plain": [
       "'Tal'"
      ]
     },
     "execution_count": 27,
     "metadata": {},
     "output_type": "execute_result"
    }
   ],
   "source": [
    "b[:-3]"
   ]
  },
  {
   "cell_type": "code",
   "execution_count": 28,
   "id": "259181ca-ff83-4926-9e5d-95618f26599e",
   "metadata": {},
   "outputs": [
    {
     "data": {
      "text/plain": [
       "'lapy'"
      ]
     },
     "execution_count": 28,
     "metadata": {},
     "output_type": "execute_result"
    }
   ],
   "source": [
    "b[-4:]"
   ]
  },
  {
   "cell_type": "code",
   "execution_count": 29,
   "id": "6ec3cf85-0b76-467f-8372-3d32e73e0a66",
   "metadata": {},
   "outputs": [],
   "source": [
    "x = 'hello'"
   ]
  },
  {
   "cell_type": "code",
   "execution_count": 30,
   "id": "2665fb95-c7e5-4602-9344-b2e55c4de2a3",
   "metadata": {},
   "outputs": [
    {
     "data": {
      "text/plain": [
       "'hello'"
      ]
     },
     "execution_count": 30,
     "metadata": {},
     "output_type": "execute_result"
    }
   ],
   "source": [
    "x"
   ]
  },
  {
   "cell_type": "code",
   "execution_count": 31,
   "id": "c16fa066-4c81-44fc-91d8-1b50e358c23c",
   "metadata": {},
   "outputs": [
    {
     "name": "stdout",
     "output_type": "stream",
     "text": [
      "hello\n"
     ]
    }
   ],
   "source": [
    "print(x)"
   ]
  },
  {
   "cell_type": "code",
   "execution_count": 32,
   "id": "0010b94f-4f11-4333-9d6e-5af00cec5d1c",
   "metadata": {},
   "outputs": [],
   "source": [
    "num = 31\n",
    "name = 'Tahereh Parnian'\n",
    "proj = 'Monogram 2'"
   ]
  },
  {
   "cell_type": "code",
   "execution_count": 33,
   "id": "4ed9988a-73b8-4024-a308-cdc7be66c2bf",
   "metadata": {},
   "outputs": [
    {
     "name": "stdout",
     "output_type": "stream",
     "text": [
      "my name is : Tahereh Parnian, my age is : 31 and my project is : Monogram 2. \n"
     ]
    }
   ],
   "source": [
    "print('my name is : {}, my age is : {} and my project is : {}. ' .format(name, num, proj))"
   ]
  },
  {
   "cell_type": "code",
   "execution_count": 34,
   "id": "bc127dfe-dfb7-49c9-8b9e-c9ca341f0c69",
   "metadata": {},
   "outputs": [],
   "source": [
    "\n",
    "## Lists\n",
    "\n",
    "lst = [1,2,3]"
   ]
  },
  {
   "cell_type": "code",
   "execution_count": 35,
   "id": "0cc81635-aa6d-46d7-8210-9daf3c43b588",
   "metadata": {},
   "outputs": [
    {
     "data": {
      "text/plain": [
       "1"
      ]
     },
     "execution_count": 35,
     "metadata": {},
     "output_type": "execute_result"
    }
   ],
   "source": [
    "lst[0]"
   ]
  },
  {
   "cell_type": "code",
   "execution_count": 36,
   "id": "4358d386-4821-4469-82a3-ca388de7a513",
   "metadata": {},
   "outputs": [
    {
     "data": {
      "text/plain": [
       "3"
      ]
     },
     "execution_count": 36,
     "metadata": {},
     "output_type": "execute_result"
    }
   ],
   "source": [
    "len(lst)"
   ]
  },
  {
   "cell_type": "code",
   "execution_count": 37,
   "id": "e20a17ed-fd84-458d-a293-16806be1089e",
   "metadata": {},
   "outputs": [],
   "source": [
    "## add a value to the end of the list  ----> .append()\n",
    "\n",
    "lst.append(6)"
   ]
  },
  {
   "cell_type": "code",
   "execution_count": 38,
   "id": "cf2024c9-a39b-40e2-845e-88c47b622c78",
   "metadata": {},
   "outputs": [
    {
     "data": {
      "text/plain": [
       "[1, 2, 3, 6]"
      ]
     },
     "execution_count": 38,
     "metadata": {},
     "output_type": "execute_result"
    }
   ],
   "source": [
    "lst"
   ]
  },
  {
   "cell_type": "code",
   "execution_count": 39,
   "id": "50a71d13-0706-495a-b4f8-dc0775743630",
   "metadata": {},
   "outputs": [
    {
     "data": {
      "text/plain": [
       "4"
      ]
     },
     "execution_count": 39,
     "metadata": {},
     "output_type": "execute_result"
    }
   ],
   "source": [
    "len(lst)"
   ]
  },
  {
   "cell_type": "code",
   "execution_count": 40,
   "id": "650156a8-fd9b-43aa-bbde-919b8a3ad452",
   "metadata": {},
   "outputs": [],
   "source": [
    "my_list = ['a', 'b', 'c']"
   ]
  },
  {
   "cell_type": "code",
   "execution_count": 41,
   "id": "6eacd50d-7bd5-4d2f-adb8-a8a4d8efa51f",
   "metadata": {},
   "outputs": [],
   "source": [
    "my_list.append('d')"
   ]
  },
  {
   "cell_type": "code",
   "execution_count": 42,
   "id": "9c5e3ff8-13dc-4c7a-ad8a-80ee4139abd2",
   "metadata": {},
   "outputs": [
    {
     "data": {
      "text/plain": [
       "['a', 'b', 'c', 'd']"
      ]
     },
     "execution_count": 42,
     "metadata": {},
     "output_type": "execute_result"
    }
   ],
   "source": [
    "my_list"
   ]
  },
  {
   "cell_type": "code",
   "execution_count": 43,
   "id": "befbc031-aec2-4570-88b7-f75ad5252f02",
   "metadata": {},
   "outputs": [
    {
     "data": {
      "text/plain": [
       "'c'"
      ]
     },
     "execution_count": 43,
     "metadata": {},
     "output_type": "execute_result"
    }
   ],
   "source": [
    "my_list[-2]"
   ]
  },
  {
   "cell_type": "code",
   "execution_count": 44,
   "id": "dcc92ad5-a0e5-4cc3-b32c-6aa7bc5143b1",
   "metadata": {},
   "outputs": [
    {
     "data": {
      "text/plain": [
       "'b'"
      ]
     },
     "execution_count": 44,
     "metadata": {},
     "output_type": "execute_result"
    }
   ],
   "source": [
    "my_list[1]"
   ]
  },
  {
   "cell_type": "code",
   "execution_count": 45,
   "id": "88e760cd-0c09-458b-88f0-f890ce9d1452",
   "metadata": {},
   "outputs": [
    {
     "data": {
      "text/plain": [
       "['b', 'c', 'd']"
      ]
     },
     "execution_count": 45,
     "metadata": {},
     "output_type": "execute_result"
    }
   ],
   "source": [
    "my_list[1:]"
   ]
  },
  {
   "cell_type": "code",
   "execution_count": 46,
   "id": "b6790de2-d34c-4b89-9bcc-4273fe72081e",
   "metadata": {},
   "outputs": [
    {
     "data": {
      "text/plain": [
       "['a', 'b', 'c']"
      ]
     },
     "execution_count": 46,
     "metadata": {},
     "output_type": "execute_result"
    }
   ],
   "source": [
    "my_list[:3]"
   ]
  },
  {
   "cell_type": "code",
   "execution_count": 47,
   "id": "576e7018-7ac8-47f7-b81c-28df3b631f90",
   "metadata": {},
   "outputs": [],
   "source": [
    "my_list[2]= 'NEW'"
   ]
  },
  {
   "cell_type": "code",
   "execution_count": 48,
   "id": "1843bf31-978f-4e96-a52d-f98b1afa7ea2",
   "metadata": {},
   "outputs": [
    {
     "data": {
      "text/plain": [
       "['a', 'b', 'NEW', 'd']"
      ]
     },
     "execution_count": 48,
     "metadata": {},
     "output_type": "execute_result"
    }
   ],
   "source": [
    "my_list"
   ]
  },
  {
   "cell_type": "code",
   "execution_count": 49,
   "id": "67881ec8-d948-43e4-88d0-bf5ecae19ee2",
   "metadata": {},
   "outputs": [],
   "source": [
    "## nest\n",
    "\n",
    "nest = [1, 2, 3, [4, 5, ['target']]]"
   ]
  },
  {
   "cell_type": "code",
   "execution_count": 50,
   "id": "bc60f7fb-63e6-4595-8830-bb75a01d0004",
   "metadata": {},
   "outputs": [
    {
     "data": {
      "text/plain": [
       "[1, 2, 3, [4, 5, ['target']]]"
      ]
     },
     "execution_count": 50,
     "metadata": {},
     "output_type": "execute_result"
    }
   ],
   "source": [
    "nest"
   ]
  },
  {
   "cell_type": "code",
   "execution_count": 51,
   "id": "e48c4f01-f491-4806-b69b-de4a8f22585c",
   "metadata": {},
   "outputs": [
    {
     "data": {
      "text/plain": [
       "[1, 2]"
      ]
     },
     "execution_count": 51,
     "metadata": {},
     "output_type": "execute_result"
    }
   ],
   "source": [
    "nest[:2]"
   ]
  },
  {
   "cell_type": "code",
   "execution_count": 52,
   "id": "bf92ddd8-f35e-4c48-8a79-dfa16582a57f",
   "metadata": {},
   "outputs": [
    {
     "data": {
      "text/plain": [
       "[4, 5, ['target']]"
      ]
     },
     "execution_count": 52,
     "metadata": {},
     "output_type": "execute_result"
    }
   ],
   "source": [
    "nest[3]"
   ]
  },
  {
   "cell_type": "code",
   "execution_count": 53,
   "id": "a0243ffd-d429-434b-98ac-3014ae1282a4",
   "metadata": {},
   "outputs": [
    {
     "data": {
      "text/plain": [
       "5"
      ]
     },
     "execution_count": 53,
     "metadata": {},
     "output_type": "execute_result"
    }
   ],
   "source": [
    "nest[3][1]"
   ]
  },
  {
   "cell_type": "code",
   "execution_count": 54,
   "id": "9c85b40c-3020-4b2f-9f0b-5ed6569a6a26",
   "metadata": {},
   "outputs": [
    {
     "data": {
      "text/plain": [
       "['target']"
      ]
     },
     "execution_count": 54,
     "metadata": {},
     "output_type": "execute_result"
    }
   ],
   "source": [
    "nest[3][2]"
   ]
  },
  {
   "cell_type": "code",
   "execution_count": 55,
   "id": "5a46bad1-c0ed-4258-91b3-d46f34d89ac3",
   "metadata": {},
   "outputs": [
    {
     "data": {
      "text/plain": [
       "'t'"
      ]
     },
     "execution_count": 55,
     "metadata": {},
     "output_type": "execute_result"
    }
   ],
   "source": [
    "nest[3][2][0][-1]"
   ]
  },
  {
   "cell_type": "code",
   "execution_count": 56,
   "id": "c2e1dce6-cc58-4279-907e-df6969e38ef7",
   "metadata": {},
   "outputs": [],
   "source": [
    "list_new = [2, 4, 6, 8, 10]"
   ]
  },
  {
   "cell_type": "code",
   "execution_count": 57,
   "id": "57716646-468c-4f15-8641-dc5e4dfb609a",
   "metadata": {},
   "outputs": [],
   "source": [
    "list_new[0]= 'new'"
   ]
  },
  {
   "cell_type": "code",
   "execution_count": 58,
   "id": "7bcebc7a-b914-4b50-8a6b-22900af09244",
   "metadata": {},
   "outputs": [
    {
     "data": {
      "text/plain": [
       "['new', 4, 6, 8, 10]"
      ]
     },
     "execution_count": 58,
     "metadata": {},
     "output_type": "execute_result"
    }
   ],
   "source": [
    "list_new"
   ]
  },
  {
   "cell_type": "code",
   "execution_count": 59,
   "id": "49d2003b-bb70-4595-975a-719ff33ea07c",
   "metadata": {},
   "outputs": [
    {
     "data": {
      "text/plain": [
       "['new', 4, 6, 'orange', 8, 10]"
      ]
     },
     "execution_count": 59,
     "metadata": {},
     "output_type": "execute_result"
    }
   ],
   "source": [
    "## add a value to the list with specific index ----> .insert(index, value)\n",
    "\n",
    "list_new.insert(3, 'orange')\n",
    "list_new"
   ]
  },
  {
   "cell_type": "code",
   "execution_count": 60,
   "id": "5359c585-f400-4495-b75c-7916ef5197b6",
   "metadata": {},
   "outputs": [],
   "source": [
    "string = 'monogram2'"
   ]
  },
  {
   "cell_type": "code",
   "execution_count": 61,
   "id": "1b6fb499-4a66-411a-ae03-7d0a97c7dca0",
   "metadata": {},
   "outputs": [
    {
     "data": {
      "text/plain": [
       "'o'"
      ]
     },
     "execution_count": 61,
     "metadata": {},
     "output_type": "execute_result"
    }
   ],
   "source": [
    "string[3]"
   ]
  },
  {
   "cell_type": "code",
   "execution_count": 62,
   "id": "0d04d049-2160-495b-8100-403dbf1cd007",
   "metadata": {},
   "outputs": [
    {
     "data": {
      "text/plain": [
       "'monogr'"
      ]
     },
     "execution_count": 62,
     "metadata": {},
     "output_type": "execute_result"
    }
   ],
   "source": [
    "string[: 6]"
   ]
  },
  {
   "cell_type": "code",
   "execution_count": 63,
   "id": "7209db00-3b2f-4b34-b453-a4d9398fc949",
   "metadata": {},
   "outputs": [
    {
     "data": {
      "text/plain": [
       "'a'"
      ]
     },
     "execution_count": 63,
     "metadata": {},
     "output_type": "execute_result"
    }
   ],
   "source": [
    "string[-3]"
   ]
  },
  {
   "cell_type": "code",
   "execution_count": 64,
   "id": "0eeb4cfd-c38e-4ccc-a337-45e99d979933",
   "metadata": {},
   "outputs": [
    {
     "data": {
      "text/plain": [
       "'monogram2'"
      ]
     },
     "execution_count": 64,
     "metadata": {},
     "output_type": "execute_result"
    }
   ],
   "source": [
    "string"
   ]
  },
  {
   "cell_type": "code",
   "execution_count": 65,
   "id": "53c6b6e1-d2a9-4671-90bd-d0a6ec12c632",
   "metadata": {},
   "outputs": [
    {
     "data": {
      "text/plain": [
       "str"
      ]
     },
     "execution_count": 65,
     "metadata": {},
     "output_type": "execute_result"
    }
   ],
   "source": [
    "\n",
    "## Data Type in python\n",
    "\n",
    "type(string)"
   ]
  },
  {
   "cell_type": "code",
   "execution_count": 66,
   "id": "f151c361-b165-463c-9f9a-a245738c5b9c",
   "metadata": {},
   "outputs": [
    {
     "data": {
      "text/plain": [
       "int"
      ]
     },
     "execution_count": 66,
     "metadata": {},
     "output_type": "execute_result"
    }
   ],
   "source": [
    "my_data = 2\n",
    "\n",
    "type(my_data)"
   ]
  },
  {
   "cell_type": "code",
   "execution_count": 67,
   "id": "2f61591a-af04-4945-a2cf-b184be143127",
   "metadata": {},
   "outputs": [
    {
     "data": {
      "text/plain": [
       "float"
      ]
     },
     "execution_count": 67,
     "metadata": {},
     "output_type": "execute_result"
    }
   ],
   "source": [
    "my_data1 = 32.6\n",
    "\n",
    "type(my_data1)"
   ]
  },
  {
   "cell_type": "code",
   "execution_count": 68,
   "id": "8db5991e-5106-4e4b-9644-7ac8fa976b21",
   "metadata": {},
   "outputs": [
    {
     "data": {
      "text/plain": [
       "str"
      ]
     },
     "execution_count": 68,
     "metadata": {},
     "output_type": "execute_result"
    }
   ],
   "source": [
    "my_data3 = '34'\n",
    "\n",
    "type(my_data3)"
   ]
  },
  {
   "cell_type": "code",
   "execution_count": 69,
   "id": "e631b866-a3ce-4bfb-a1ae-abe5090f5419",
   "metadata": {},
   "outputs": [
    {
     "data": {
      "text/plain": [
       "list"
      ]
     },
     "execution_count": 69,
     "metadata": {},
     "output_type": "execute_result"
    }
   ],
   "source": [
    "my_list = ['a', 'b', 'c']\n",
    "\n",
    "type(my_list)"
   ]
  },
  {
   "cell_type": "code",
   "execution_count": 70,
   "id": "c23a9c9d-413c-451f-a9b6-01069a531742",
   "metadata": {},
   "outputs": [
    {
     "data": {
      "text/plain": [
       "list"
      ]
     },
     "execution_count": 70,
     "metadata": {},
     "output_type": "execute_result"
    }
   ],
   "source": [
    "nest = [1, 2, 3, [4, 5, ['target']]]\n",
    "\n",
    "type(nest)"
   ]
  },
  {
   "cell_type": "code",
   "execution_count": 71,
   "id": "a6b1e182-479e-4087-95ea-2d4e23e95b61",
   "metadata": {},
   "outputs": [
    {
     "data": {
      "text/plain": [
       "int"
      ]
     },
     "execution_count": 71,
     "metadata": {},
     "output_type": "execute_result"
    }
   ],
   "source": [
    "\n",
    "## How to change the data type :  = int()\n",
    "\n",
    "my_data3 = '34'\n",
    "\n",
    "my_data3_new = int(my_data3)\n",
    "\n",
    "type(my_data3_new)"
   ]
  },
  {
   "cell_type": "code",
   "execution_count": 72,
   "id": "35d4054a-c0d4-42a5-8917-32c6cfa59a68",
   "metadata": {},
   "outputs": [
    {
     "data": {
      "text/plain": [
       "str"
      ]
     },
     "execution_count": 72,
     "metadata": {},
     "output_type": "execute_result"
    }
   ],
   "source": [
    "my_data = 2\n",
    "\n",
    "my_data_new = str(my_data)\n",
    "\n",
    "type(my_data_new)"
   ]
  },
  {
   "cell_type": "code",
   "execution_count": 73,
   "id": "b4f0c040-9966-4189-b4e0-0849ad1e9f03",
   "metadata": {},
   "outputs": [
    {
     "data": {
      "text/plain": [
       "'2'"
      ]
     },
     "execution_count": 73,
     "metadata": {},
     "output_type": "execute_result"
    }
   ],
   "source": [
    "my_data_new"
   ]
  },
  {
   "cell_type": "code",
   "execution_count": 74,
   "id": "f370526f-b103-43b8-8df1-2788af5bf8a2",
   "metadata": {},
   "outputs": [
    {
     "data": {
      "text/plain": [
       "int"
      ]
     },
     "execution_count": 74,
     "metadata": {},
     "output_type": "execute_result"
    }
   ],
   "source": [
    "\n",
    "## Quiz\n",
    "\n",
    "x = 0\n",
    "\n",
    "type(x)"
   ]
  },
  {
   "cell_type": "code",
   "execution_count": 75,
   "id": "6af3fb15-a453-49fb-91ee-842724f4ebcc",
   "metadata": {},
   "outputs": [
    {
     "data": {
      "text/plain": [
       "float"
      ]
     },
     "execution_count": 75,
     "metadata": {},
     "output_type": "execute_result"
    }
   ],
   "source": [
    "x_1 = 3.12323\n",
    "\n",
    "type(x_1)"
   ]
  },
  {
   "cell_type": "code",
   "execution_count": 76,
   "id": "aacdb30e-62b3-41e7-923a-9049f032fad6",
   "metadata": {},
   "outputs": [
    {
     "data": {
      "text/plain": [
       "3"
      ]
     },
     "execution_count": 76,
     "metadata": {},
     "output_type": "execute_result"
    }
   ],
   "source": [
    "int(3.99)"
   ]
  },
  {
   "cell_type": "code",
   "execution_count": 77,
   "id": "fd9715dc-b78c-411f-826c-53e3d2110572",
   "metadata": {},
   "outputs": [
    {
     "data": {
      "text/plain": [
       "5"
      ]
     },
     "execution_count": 77,
     "metadata": {},
     "output_type": "execute_result"
    }
   ],
   "source": [
    "11 // 2"
   ]
  },
  {
   "cell_type": "code",
   "execution_count": 78,
   "id": "2c9ca420-3e98-4914-bd0d-cf1f9467030c",
   "metadata": {},
   "outputs": [
    {
     "data": {
      "text/plain": [
       "2.0"
      ]
     },
     "execution_count": 78,
     "metadata": {},
     "output_type": "execute_result"
    }
   ],
   "source": [
    "x = 4\n",
    "x = x/2\n",
    "x"
   ]
  },
  {
   "cell_type": "code",
   "execution_count": 79,
   "id": "76500726-4545-4710-b678-36c49220c1ff",
   "metadata": {},
   "outputs": [
    {
     "data": {
      "text/plain": [
       "2.5"
      ]
     },
     "execution_count": 79,
     "metadata": {},
     "output_type": "execute_result"
    }
   ],
   "source": [
    "5 / 2"
   ]
  },
  {
   "cell_type": "code",
   "execution_count": 80,
   "id": "c3cc1b89-3a13-431d-98f0-48d4bf1691a6",
   "metadata": {},
   "outputs": [
    {
     "data": {
      "text/plain": [
       "1"
      ]
     },
     "execution_count": 80,
     "metadata": {},
     "output_type": "execute_result"
    }
   ],
   "source": [
    "5 % 2"
   ]
  },
  {
   "cell_type": "code",
   "execution_count": 81,
   "id": "72b741cb-fc62-4afb-9ef4-392d868a90c5",
   "metadata": {},
   "outputs": [
    {
     "data": {
      "text/plain": [
       "'Michael Jackson'"
      ]
     },
     "execution_count": 81,
     "metadata": {},
     "output_type": "execute_result"
    }
   ],
   "source": [
    "## Strings\n",
    "# A String of Carachters made within '' or \" \" . separated by , \n",
    "\n",
    "'Michael Jackson'"
   ]
  },
  {
   "cell_type": "code",
   "execution_count": 82,
   "id": "7d2d61ed-8ead-480e-8c4e-b2fcba614fd4",
   "metadata": {},
   "outputs": [
    {
     "data": {
      "text/plain": [
       "'Michael Jackson'"
      ]
     },
     "execution_count": 82,
     "metadata": {},
     "output_type": "execute_result"
    }
   ],
   "source": [
    "\"Michael Jackson\""
   ]
  },
  {
   "cell_type": "code",
   "execution_count": 83,
   "id": "3313cdf2-1def-4e6e-a89b-49005113ce54",
   "metadata": {},
   "outputs": [
    {
     "data": {
      "text/plain": [
       "'1 2 3 4 5 6 7'"
      ]
     },
     "execution_count": 83,
     "metadata": {},
     "output_type": "execute_result"
    }
   ],
   "source": [
    "'1 2 3 4 5 6 7'"
   ]
  },
  {
   "cell_type": "code",
   "execution_count": 84,
   "id": "faa7cbbd-01c8-463e-961d-971b7a26e7ab",
   "metadata": {},
   "outputs": [
    {
     "data": {
      "text/plain": [
       "True"
      ]
     },
     "execution_count": 84,
     "metadata": {},
     "output_type": "execute_result"
    }
   ],
   "source": [
    "string_1= 'Michael Jackson'\n",
    "string_2= \"Michael Jackson\"\n",
    "string_1 == string_2"
   ]
  },
  {
   "cell_type": "code",
   "execution_count": 85,
   "id": "048fe6d6-6b53-4244-a6dd-2db457658278",
   "metadata": {},
   "outputs": [
    {
     "data": {
      "text/plain": [
       "'1 2 3 4 5 6'"
      ]
     },
     "execution_count": 85,
     "metadata": {},
     "output_type": "execute_result"
    }
   ],
   "source": [
    "string_3= \"1 2 3 4 5 6\"\n",
    "string_3"
   ]
  },
  {
   "cell_type": "code",
   "execution_count": 86,
   "id": "534aab23-bf4f-4a3d-91cf-8340e28147da",
   "metadata": {},
   "outputs": [
    {
     "data": {
      "text/plain": [
       "'@#2_#]&*§%€'"
      ]
     },
     "execution_count": 86,
     "metadata": {},
     "output_type": "execute_result"
    }
   ],
   "source": [
    "string_4= '@#2_#]&*§%€'\n",
    "string_4"
   ]
  },
  {
   "cell_type": "code",
   "execution_count": null,
   "id": "32933c0d-40e8-422c-a5ac-d2ddb5fed1aa",
   "metadata": {},
   "outputs": [],
   "source": []
  },
  {
   "cell_type": "code",
   "execution_count": null,
   "id": "d1d8138b-6801-483b-8e23-419310ac811a",
   "metadata": {},
   "outputs": [],
   "source": []
  }
 ],
 "metadata": {
  "kernelspec": {
   "display_name": "Python 3 (ipykernel)",
   "language": "python",
   "name": "python3"
  },
  "language_info": {
   "codemirror_mode": {
    "name": "ipython",
    "version": 3
   },
   "file_extension": ".py",
   "mimetype": "text/x-python",
   "name": "python",
   "nbconvert_exporter": "python",
   "pygments_lexer": "ipython3",
   "version": "3.13.7"
  }
 },
 "nbformat": 4,
 "nbformat_minor": 5
}
